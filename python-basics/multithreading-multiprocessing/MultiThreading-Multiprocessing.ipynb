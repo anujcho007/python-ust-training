{
 "cells": [
  {
   "cell_type": "markdown",
   "id": "d68b2306",
   "metadata": {},
   "source": [
    "# Multithreading "
   ]
  },
  {
   "cell_type": "code",
   "execution_count": 13,
   "id": "cd751329",
   "metadata": {},
   "outputs": [
    {
     "name": "stdout",
     "output_type": "stream",
     "text": [
      "says Helloo World at time:  2022-02-18 14:57:04.523889\n",
      "says Helloo World at time:  2022-02-18 14:57:04.992853\n"
     ]
    }
   ],
   "source": [
    "import threading\n",
    "import datetime\n",
    "import time\n",
    "        \n",
    "class ThreadClass(threading.Thread):\n",
    "    def run(self):\n",
    "        now = datetime.datetime.now()\n",
    "        print (\"says Helloo World at time: \",now)\n",
    "        (self.getName(), now)\n",
    "    \n",
    "        \n",
    "        \n",
    "for i in range(2):\n",
    "    t = ThreadClass()\n",
    "    t.start()\n",
    "    time.sleep(0.45)\n",
    "          "
   ]
  },
  {
   "cell_type": "code",
   "execution_count": 13,
   "id": "d26e1f66",
   "metadata": {},
   "outputs": [
    {
     "name": "stdout",
     "output_type": "stream",
     "text": [
      "This is My thread\n",
      "This is My thread\n"
     ]
    }
   ],
   "source": [
    "import threading\n",
    "import datetime\n",
    "class ThreadControl(threading.Thread):\n",
    "    def run(self):\n",
    "        now = datetime.datetime.now()\n",
    "        print(\"This is My thread\")\n",
    "        (self.getName(),now)\n",
    "for i in range(2):\n",
    "    thread = ThreadControl()\n",
    "    thread.start()"
   ]
  },
  {
   "cell_type": "code",
   "execution_count": 7,
   "id": "1e02fe3b",
   "metadata": {},
   "outputs": [
    {
     "name": "stdout",
     "output_type": "stream",
     "text": [
      "This is my thread\n",
      "This is my thread\n",
      "This is my thread\n",
      "This is my thread\n",
      "This is my thread\n"
     ]
    }
   ],
   "source": [
    "import threading \n",
    "import datetime\n",
    "import time\n",
    "\n",
    "class thread_class(threading.Thread):\n",
    "    def run(self):\n",
    "        now = datetime.datetime.now()\n",
    "        print(\"This is my thread\")\n",
    "        (self.getName,now)\n",
    "for i in range(5):\n",
    "    t = thread_class()\n",
    "    time.sleep(0.5)\n",
    "    t.start()"
   ]
  },
  {
   "cell_type": "code",
   "execution_count": 15,
   "id": "94e059af",
   "metadata": {},
   "outputs": [
    {
     "name": "stdout",
     "output_type": "stream",
     "text": [
      "Hello Dear Richard. How are you?\n",
      "Hey! Richard, your id is 1.\n",
      "Hello Dear Dinesh. How are you?\n",
      "Hey! Dinesh, your id is 2.\n",
      "Hello Dear Elrich. How are you?\n",
      "Hey! Elrich, your id is 3.\n",
      "Hello Dear Gilfoyle. How are you?\n",
      "Hey! Gilfoyle, your id is 4.\n",
      "Hello Dear Gevin. How are you?\n",
      "Hey! Gevin, your id is 5.\n",
      "Woaahh!! My work is finished..\n",
      "I took 2.5709898471832275\n"
     ]
    }
   ],
   "source": [
    "import threading\n",
    "import time\n",
    " \n",
    "#First Method\n",
    "def greet_them(people):\n",
    "    for person in people:\n",
    "        print(\"Hello Dear \" + person + \". How are you?\")\n",
    "        time.sleep(0.5)\n",
    " \n",
    "#Second Method\n",
    "def assign_id(people):\n",
    "    i = 1\n",
    "    for person in people:\n",
    "        print(\"Hey! {}, your id is {}.\".format(person, i))\n",
    "        i += 1\n",
    "        time.sleep(0.5)\n",
    " \n",
    " \n",
    "people = ['Richard', 'Dinesh', 'Elrich', 'Gilfoyle', 'Gevin']\n",
    " \n",
    "t = time.time()\n",
    " \n",
    "t1 = threading.Thread(target=greet_them, args=(people,))\n",
    "t2 = threading.Thread(target=assign_id, args=(people,))\n",
    "t1.start()\n",
    "t2.start()\n",
    "t1.join()\n",
    "t2.join()\n",
    "print(\"Woaahh!! My work is finished..\")\n",
    "print(\"I took \" + str(time.time() - t))"
   ]
  },
  {
   "cell_type": "code",
   "execution_count": 21,
   "id": "231c5c05",
   "metadata": {},
   "outputs": [
    {
     "name": "stdout",
     "output_type": "stream",
     "text": [
      "My Name Is Amit.\n",
      "Hey! Amit, your id is 1.\n",
      "Hey! Anuj, your id is 2.My Name Is Anuj.\n",
      "\n",
      "Hey! Akshay, your id is 3.My Name Is Akshay.\n",
      "\n",
      "Woaahh!! My work is finished..\n",
      "I took 0.0\n"
     ]
    }
   ],
   "source": [
    "import time\n",
    "import threading\n",
    "\n",
    "\n",
    "def first_name(people):\n",
    "    for firstName in people:\n",
    "        print(\"My Name Is \"+firstName+\".\")\n",
    "        time.sleep(0.50)\n",
    "\n",
    "def assign_id(people):\n",
    "    i = 1\n",
    "    for person in people:\n",
    "        print(\"Hey! {}, your id is {}.\".format(person, i))\n",
    "        i += 1\n",
    "        time.sleep(0.50)\n",
    "\n",
    "first_name1 = [\"Amit\",\"Anuj\",\"Akshay\"]\n",
    "t = threading.Thread(target= first_name , args=(first_name1,))\n",
    "t2 = threading.Thread(target= assign_id , args=(first_name1,))\n",
    "t.start()\n",
    "t2.start()\n",
    "t.join()\n",
    "t2.join()\n",
    "print(\"Woaahh!! My work is finished..\")\n",
    "t= time.time()\n",
    "print(\"I took \" + str(time.time() - t))"
   ]
  },
  {
   "cell_type": "markdown",
   "id": "563a4a19",
   "metadata": {},
   "source": [
    "# MultiProcessing"
   ]
  },
  {
   "cell_type": "code",
   "execution_count": 3,
   "id": "594ad0f5",
   "metadata": {},
   "outputs": [
    {
     "name": "stdout",
     "output_type": "stream",
     "text": [
      "Writing test.py\n"
     ]
    }
   ],
   "source": [
    "%%writefile test.py\n",
    "from random import random\n",
    "from multiprocessing import Pool\n",
    "import timeit\n",
    "\n",
    "def find_pi(n):\n",
    "    \"\"\"\n",
    "    Function to estimate the value of Pi\n",
    "    \"\"\"\n",
    "    inside=0\n",
    "\n",
    "    for i in range(0,n):\n",
    "        x=random()\n",
    "        y=random()\n",
    "        if (x*x+y*y)**(0.5)<=1:  # if i falls inside the circle\n",
    "            inside+=1\n",
    "\n",
    "    pi=4*inside/n\n",
    "    return pi\n",
    "\n",
    "if __name__ == '__main__':\n",
    "    N = 10**5  # total iterations\n",
    "    P = 5      # number of processes\n",
    "    \n",
    "    p = Pool(P)\n",
    "    print(timeit.timeit(lambda: print(f'{sum(p.map(find_pi, [N//P]*P))/P:0.7f}'), number=10))\n",
    "    p.close()\n",
    "    p.join()\n",
    "    print(f'{N} total iterations with {P} processes')"
   ]
  },
  {
   "cell_type": "code",
   "execution_count": 4,
   "id": "10f2adbf",
   "metadata": {},
   "outputs": [
    {
     "name": "stdout",
     "output_type": "stream",
     "text": [
      "3.1450400\n",
      "3.1474000\n",
      "3.1459200\n",
      "3.1380400\n",
      "3.1359200\n",
      "3.1401200\n",
      "3.1534800\n",
      "3.1401200\n",
      "3.1354000\n",
      "3.1388000\n",
      "0.34594240000000004\n",
      "100000 total iterations with 5 processes\n"
     ]
    }
   ],
   "source": [
    "! python test.py"
   ]
  },
  {
   "cell_type": "code",
   "execution_count": 5,
   "id": "f31619c4",
   "metadata": {},
   "outputs": [
    {
     "name": "stdout",
     "output_type": "stream",
     "text": [
      "3.1466800\n",
      "3.1373200\n",
      "3.1355200\n",
      "3.1404800\n",
      "3.1420400\n",
      "3.1402800\n",
      "3.1352800\n",
      "3.1329600\n",
      "3.1449600\n",
      "3.1377600\n",
      "0.3540483\n",
      "100000 total iterations with 5 processes\n"
     ]
    }
   ],
   "source": [
    "! python test.py 100000 50"
   ]
  },
  {
   "cell_type": "code",
   "execution_count": 6,
   "id": "f2a546da",
   "metadata": {},
   "outputs": [
    {
     "name": "stdout",
     "output_type": "stream",
     "text": [
      "Writing test2.py\n"
     ]
    }
   ],
   "source": [
    "%%writefile test2.py\n",
    "from random import random\n",
    "from multiprocessing import Pool\n",
    "import timeit\n",
    "import sys\n",
    "\n",
    "N = int(sys.argv[1])  # these arguments are passed in from the command line\n",
    "P = int(sys.argv[2])\n",
    "\n",
    "def find_pi(n):\n",
    "    \"\"\"\n",
    "    Function to estimate the value of Pi\n",
    "    \"\"\"\n",
    "    inside=0\n",
    "\n",
    "    for i in range(0,n):\n",
    "        x=random()\n",
    "        y=random()\n",
    "        if (x*x+y*y)**(0.5)<=1:  # if i falls inside the circle\n",
    "            inside+=1\n",
    "\n",
    "    pi=4*inside/n\n",
    "    return pi\n",
    "\n",
    "if __name__ == '__main__':\n",
    "    \n",
    "    with Pool(P) as p:\n",
    "        print(timeit.timeit(lambda: print(f'{sum(p.map(find_pi, [N//P]*P))/P:0.5f}'), number=10))\n",
    "    print(f'{N} total iterations with {P} processes')"
   ]
  },
  {
   "cell_type": "code",
   "execution_count": null,
   "id": "ca3ab121",
   "metadata": {},
   "outputs": [],
   "source": [
    "! python test2.py 100 50"
   ]
  },
  {
   "cell_type": "code",
   "execution_count": null,
   "id": "52bb873b",
   "metadata": {},
   "outputs": [],
   "source": [
    "from random import random\n",
    "from multiprocessing import Pool\n",
    "import timeit\n",
    "import sys\n",
    "\n",
    "N = int(sys.argv[1])  # these arguments are passed in from the command line\n",
    "P = int(sys.argv[2])\n",
    "\n",
    "def find_pi(n):\n",
    "    \"\"\"\n",
    "    Function to estimate the value of Pi\n",
    "    \"\"\"\n",
    "    inside=0\n",
    "\n",
    "    for i in range(0,n):\n",
    "        x=random()\n",
    "        y=random()\n",
    "        if (x*x+y*y)**(0.5)<=1:  # if i falls inside the circle\n",
    "            inside+=1\n",
    "\n",
    "    pi=4*inside/n\n",
    "    return pi\n",
    "\n",
    "if __name__ == '__main__':\n",
    "    \n",
    "    with Pool(P) as p:\n",
    "        print(timeit.timeit(lambda: print(f'{sum(p.map(find_pi, [N//P]*P))/P:0.5f}'), number=10))\n",
    "    print(f'{N} total iterations with {P} processes')"
   ]
  },
  {
   "cell_type": "code",
   "execution_count": null,
   "id": "295ae9b0",
   "metadata": {},
   "outputs": [],
   "source": [
    "%%writefile test2.py\n",
    "from random import random\n",
    "from multiprocessing import Pool\n",
    "import timeit\n",
    "import sys\n",
    "\n",
    "N = int(sys.argv[1])  # these arguments are passed in from the command line\n",
    "P = int(sys.argv[2])\n",
    "\n",
    "def find_pi(n):\n",
    "    \"\"\"\n",
    "    Function to estimate the value of Pi\n",
    "    \"\"\"\n",
    "    inside=0\n",
    "\n",
    "    for i in range(0,n):\n",
    "        x=random()\n",
    "        y=random()\n",
    "        if (x*x+y*y)**(0.5)<=1:  # if i falls inside the circle\n",
    "            inside+=1\n",
    "\n",
    "    pi=4*inside/n\n",
    "    return pi\n",
    "\n",
    "if __name__ == '__main__':\n",
    "    \n",
    "    with Pool(P) as p:\n",
    "        print(timeit.timeit(lambda: print(f'{sum(p.map(find_pi, [N//P]*P))/P:0.5f}'), number=10))\n",
    "    print(f'{N} total iterations with {P} processes')"
   ]
  },
  {
   "cell_type": "code",
   "execution_count": 1,
   "id": "477b07f3",
   "metadata": {},
   "outputs": [
    {
     "name": "stdout",
     "output_type": "stream",
     "text": [
      "Overwriting test2.py\n"
     ]
    }
   ],
   "source": [
    "%%writefile test2.py\n",
    "from random import random\n",
    "from multiprocessing import Pool\n",
    "import timeit\n",
    "import sys\n",
    "\n",
    "N = int(sys.argv[1])  # these arguments are passed in from the command line\n",
    "P = int(sys.argv[2])\n",
    "\n",
    "def find_pi(n):\n",
    "    \"\"\"\n",
    "    Function to estimate the value of Pi\n",
    "    \"\"\"\n",
    "    inside=0\n",
    "\n",
    "    for i in range(0,n):\n",
    "        x=random()\n",
    "        y=random()\n",
    "        if (x*x+y*y)**(0.5)<=1:  # if i falls inside the circle\n",
    "            inside+=1\n",
    "\n",
    "    pi=4*inside/n\n",
    "    return pi\n",
    "\n",
    "if __name__ == '__main__':\n",
    "    \n",
    "    with Pool(P) as p:\n",
    "        print(timeit.timeit(lambda: print(f'{sum(p.map(find_pi, [N//P]*P))/P:0.5f}'), number=10))\n",
    "    print(f'{N} total iterations with {P} processes')"
   ]
  },
  {
   "cell_type": "code",
   "execution_count": 4,
   "id": "7f1d7b70",
   "metadata": {},
   "outputs": [
    {
     "name": "stderr",
     "output_type": "stream",
     "text": [
      "Fatal Python error: _Py_HashRandomization_Init: failed to get random numbers to initialize Python\n",
      "Python runtime state: preinitialized\n",
      "\n",
      "Traceback (most recent call last):\n",
      "  File \"<string>\", line 1, in <module>\n",
      "  File \"C:\\Users\\amitc\\anaconda3\\lib\\multiprocessing\\__init__.py\", line 16, in <module>\n",
      "Traceback (most recent call last):\n",
      "  File \"<string>\", line 1, in <module>\n",
      "    from . import context\n",
      "  File \"C:\\Users\\amitc\\anaconda3\\lib\\multiprocessing\\context.py\", line 6, in <module>\n",
      "  File \"C:\\Users\\amitc\\anaconda3\\lib\\multiprocessing\\spawn.py\", line 19, in <module>\n",
      "Fatal Python error: _Py_HashRandomization_Init: failed to get random numbers to initialize Python\n",
      "Python runtime state: preinitialized\n",
      "\n",
      "Python path configuration:\n",
      "  PYTHONHOME = (not set)\n",
      "  PYTHONPATH = (not set)\n",
      "  program name = 'C:\\Users\\amitc\\anaconda3\\python.exe'\n",
      "  isolated = 0\n",
      "  environment = 1\n",
      "  user site = 1\n",
      "  import site = 1\n",
      "  sys._base_executable = 'C:\\\\Users\\\\amitc\\\\anaconda3\\\\python.exe'\n",
      "  sys.base_prefix = 'C:\\\\Users\\\\amitc\\\\anaconda3'\n",
      "  sys.base_exec_prefix = 'C:\\\\Users\\\\amitc\\\\anaconda3'\n",
      "  sys.platlibdir = 'lib'\n",
      "  sys.executable = 'C:\\\\Users\\\\amitc\\\\anaconda3\\\\python.exe'\n",
      "  sys.prefix = 'C:\\\\Users\\\\amitc\\\\anaconda3'\n",
      "  sys.exec_prefix = 'C:\\\\Users\\\\amitc\\\\anaconda3'\n",
      "  sys.path = [\n",
      "    'C:\\\\Users\\\\amitc\\\\anaconda3\\\\python39.zip',\n",
      "    'C:\\\\Users\\\\amitc\\\\anaconda3\\\\DLLs',\n",
      "    'C:\\\\Users\\\\amitc\\\\anaconda3\\\\lib',\n",
      "    'C:\\\\Users\\\\amitc\\\\anaconda3',\n",
      "  ]\n",
      "Fatal Python error: init_fs_encoding: failed to get the Python codec of the filesystem encoding\n",
      "Python runtime state: core initialized\n",
      "Traceback (most recent call last):\n",
      "  File \"<frozen importlib._bootstrap>\", line 1007, in _find_and_load\n",
      "Traceback (most recent call last):\n",
      "  File \"<string>\", line 1, in <module>\n",
      "    from . import util\n",
      "  File \"C:\\Users\\amitc\\anaconda3\\lib\\multiprocessing\\util.py\", line 17, in <module>\n",
      "  File \"C:\\Users\\amitc\\anaconda3\\lib\\multiprocessing\\__init__.py\", line 16, in <module>\n",
      "    from subprocess import _args_from_interpreter_flags\n",
      "  File \"<frozen importlib._bootstrap>\", line 1007, in _find_and_load\n",
      "    from . import context\n",
      "  File \"C:\\Users\\amitc\\anaconda3\\lib\\multiprocessing\\context.py\", line 6, in <module>\n",
      "    from . import reduction\n",
      "  File \"C:\\Users\\amitc\\anaconda3\\lib\\multiprocessing\\reduction.py\", line 16, in <module>\n",
      "    import socket\n",
      "  File \"C:\\Users\\amitc\\anaconda3\\lib\\socket.py\", line 54, in <module>\n",
      "    import os, sys, io, selectors\n",
      "  File \"C:\\Users\\amitc\\anaconda3\\lib\\selectors.py\", line 12, in <module>\n",
      "Traceback (most recent call last):\n",
      "  File \"<frozen importlib._bootstrap>\", line 1187, in _install_external_importers\n",
      "  File \"<frozen importlib._bootstrap>\", line 1007, in _find_and_load\n",
      "    import select\n",
      "  File \"<frozen importlib._bootstrap>\", line 986, in _find_and_load_unlocked\n",
      "ImportError: DLL load failed while importing select: The paging file is too small for this operation to complete.\n",
      "  File \"<frozen importlib._bootstrap>\", line 680, in _load_unlocked\n",
      "  File \"C:\\Users\\amitc\\anaconda3\\lib\\multiprocessing\\reduction.py\", line 15, in <module>\n",
      "  File \"<frozen importlib._bootstrap>\", line 838, in exec_module\n",
      "  File \"<frozen importlib._bootstrap_external>\", line 32, in <module>\n",
      "MemoryError\n",
      "Fatal Python error: init_importlib_external: external importer setup failed\n",
      "Python runtime state: core initialized\n",
      "\n",
      "    import pickle\n",
      "  File \"<frozen importlib._bootstrap>\", line 1007, in _find_and_load\n",
      "Current thread 0x00007fa8 (most recent call first):\n",
      "<no Python frame>\n",
      "Traceback (most recent call last):\n",
      "  File \"<string>\", line 1, in <module>\n",
      "Fatal Python error: init_sys_streams: can't initialize sys standard streams\n",
      "Python runtime state: core initialized\n",
      "MemoryError\n",
      "\n",
      "Current thread 0x000074c4 (most recent call first):\n",
      "<no Python frame>\n",
      "Fatal Python error: pycore_init_builtins: can't initialize builtins module\n",
      "Python runtime state: preinitialized\n",
      "MemoryError\n",
      "\n",
      "Current thread 0x0000974c (most recent call first):\n",
      "<no Python frame>\n",
      "Traceback (most recent call last):\n",
      "  File \"<string>\", line 1, in <module>\n",
      "  File \"<frozen importlib._bootstrap>\", line 986, in _find_and_load_unlocked\n",
      "  File \"<frozen importlib._bootstrap>\", line 680, in _load_unlocked\n",
      "  File \"<frozen importlib._bootstrap>\", line 982, in _find_and_load_unlocked\n",
      "  File \"<frozen importlib._bootstrap>\", line 925, in _find_spec\n",
      "  File \"<frozen importlib._bootstrap_external>\", line 1414, in find_spec\n",
      "  File \"<frozen importlib._bootstrap_external>\", line 1386, in _get_spec\n",
      "  File \"<frozen importlib._bootstrap_external>\", line 1517, in find_spec\n",
      "  File \"<frozen importlib._bootstrap_external>\", line 1582, in _fill_cache\n",
      "MemoryError\n",
      "Traceback (most recent call last):\n",
      "  File \"C:\\Users\\amitc\\python_basics\\test2.py\", line 26, in <module>\n",
      "    with Pool(P) as p:\n",
      "  File \"C:\\Users\\amitc\\anaconda3\\lib\\multiprocessing\\context.py\", line 119, in Pool\n",
      "    return Pool(processes, initializer, initargs, maxtasksperchild,\n",
      "  File \"C:\\Users\\amitc\\anaconda3\\lib\\multiprocessing\\pool.py\", line 212, in __init__\n",
      "    self._repopulate_pool()\n",
      "  File \"C:\\Users\\amitc\\anaconda3\\lib\\multiprocessing\\pool.py\", line 303, in _repopulate_pool\n",
      "    return self._repopulate_pool_static(self._ctx, self.Process,\n",
      "  File \"C:\\Users\\amitc\\anaconda3\\lib\\multiprocessing\\pool.py\", line 326, in _repopulate_pool_static\n",
      "    w.start()\n",
      "  File \"C:\\Users\\amitc\\anaconda3\\lib\\multiprocessing\\process.py\", line 121, in start\n",
      "    self._popen = self._Popen(self)\n",
      "  File \"C:\\Users\\amitc\\anaconda3\\lib\\multiprocessing\\context.py\", line 327, in _Popen\n",
      "    return Popen(process_obj)\n",
      "  File \"C:\\Users\\amitc\\anaconda3\\lib\\multiprocessing\\popen_spawn_win32.py\", line 73, in __init__\n",
      "    hp, ht, pid, tid = _winapi.CreateProcess(\n",
      "OSError: [WinError 1455] The paging file is too small for this operation to complete\n"
     ]
    }
   ],
   "source": [
    "! python test2.py 10000000 500"
   ]
  },
  {
   "cell_type": "code",
   "execution_count": 9,
   "id": "06634d42",
   "metadata": {},
   "outputs": [],
   "source": [
    "from random import random\n",
    "from multiprocessing import Pool\n",
    "import timeit\n",
    "import sys"
   ]
  },
  {
   "cell_type": "code",
   "execution_count": 10,
   "id": "157ceb09",
   "metadata": {},
   "outputs": [
    {
     "ename": "ValueError",
     "evalue": "invalid literal for int() with base 10: '-f'",
     "output_type": "error",
     "traceback": [
      "\u001b[1;31m---------------------------------------------------------------------------\u001b[0m",
      "\u001b[1;31mValueError\u001b[0m                                Traceback (most recent call last)",
      "\u001b[1;32m~\\AppData\\Local\\Temp/ipykernel_31700/299647852.py\u001b[0m in \u001b[0;36m<module>\u001b[1;34m\u001b[0m\n\u001b[1;32m----> 1\u001b[1;33m \u001b[0mN\u001b[0m \u001b[1;33m=\u001b[0m \u001b[0mint\u001b[0m\u001b[1;33m(\u001b[0m\u001b[0msys\u001b[0m\u001b[1;33m.\u001b[0m\u001b[0margv\u001b[0m\u001b[1;33m[\u001b[0m\u001b[1;36m1\u001b[0m\u001b[1;33m]\u001b[0m\u001b[1;33m)\u001b[0m  \u001b[1;31m# these arguments are passed in from the command line\u001b[0m\u001b[1;33m\u001b[0m\u001b[1;33m\u001b[0m\u001b[0m\n\u001b[0m\u001b[0;32m      2\u001b[0m \u001b[0mP\u001b[0m \u001b[1;33m=\u001b[0m \u001b[0mint\u001b[0m\u001b[1;33m(\u001b[0m\u001b[0msys\u001b[0m\u001b[1;33m.\u001b[0m\u001b[0margv\u001b[0m\u001b[1;33m[\u001b[0m\u001b[1;36m2\u001b[0m\u001b[1;33m]\u001b[0m\u001b[1;33m)\u001b[0m\u001b[1;33m\u001b[0m\u001b[1;33m\u001b[0m\u001b[0m\n\u001b[0;32m      3\u001b[0m \u001b[1;33m\u001b[0m\u001b[0m\n\u001b[0;32m      4\u001b[0m \u001b[1;32mdef\u001b[0m \u001b[0mfind_pi\u001b[0m\u001b[1;33m(\u001b[0m\u001b[0mn\u001b[0m\u001b[1;33m)\u001b[0m\u001b[1;33m:\u001b[0m\u001b[1;33m\u001b[0m\u001b[1;33m\u001b[0m\u001b[0m\n\u001b[0;32m      5\u001b[0m \u001b[1;33m\u001b[0m\u001b[0m\n",
      "\u001b[1;31mValueError\u001b[0m: invalid literal for int() with base 10: '-f'"
     ]
    }
   ],
   "source": [
    "N = int(sys.argv[1])  # these arguments are passed in from the command line\n",
    "P = int(sys.argv[2])\n",
    "\n",
    "def find_pi(n):\n",
    "\n",
    "    inside=0\n",
    "\n",
    "    for i in range(0,n):\n",
    "        x=random()\n",
    "        y=random()\n",
    "        if (x*x+y*y)**(0.5)<=1:  # if i falls inside the circle\n",
    "            inside+=1\n",
    "\n",
    "    pi=4*inside/n\n",
    "    return pi\n",
    "\n",
    "if __name__ == '__main__':\n",
    "    \n",
    "    with Pool(P) as p:\n",
    "        print(timeit.timeit(lambda: print(f'{sum(p.map(find_pi, [N//P]*P))/P:0.5f}'), number=10))\n",
    "    print(f'{N} total iterations with {P} processes')"
   ]
  },
  {
   "cell_type": "code",
   "execution_count": 7,
   "id": "870a3389",
   "metadata": {},
   "outputs": [
    {
     "name": "stdout",
     "output_type": "stream",
     "text": [
      "Overwriting test2.py\n"
     ]
    }
   ],
   "source": [
    "%%writefile test2.py\n",
    "from random import random\n",
    "from multiprocessing import Pool\n",
    "import timeit\n",
    "import sys\n",
    "\n",
    "N = int(sys.argv[1])  # these arguments are passed in from the command line\n",
    "P = int(sys.argv[2])\n",
    "\n",
    "def find_pi(n):\n",
    "    \"\"\"\n",
    "    Function to estimate the value of Pi\n",
    "    \"\"\"\n",
    "    inside=0\n",
    "\n",
    "    for i in range(0,n):\n",
    "        x=random()\n",
    "        y=random()\n",
    "        if (x*x+y*y)**(0.5)<=1:  # if i falls inside the circle\n",
    "            inside+=1\n",
    "\n",
    "    pi=4*inside/n\n",
    "    return pi\n",
    "\n",
    "if __name__ == '__main__':\n",
    "    \n",
    "    with Pool(P) as p:\n",
    "        print(timeit.timeit(lambda: print(f'{sum(p.map(find_pi, [N//P]*P))/P:0.5f}'), number=10))\n",
    "    print(f'{N} total iterations with {P} processes')"
   ]
  },
  {
   "cell_type": "markdown",
   "id": "04243093",
   "metadata": {},
   "source": []
  },
  {
   "cell_type": "markdown",
   "id": "d8192574",
   "metadata": {},
   "source": [
    "# MultiThreading"
   ]
  },
  {
   "cell_type": "code",
   "execution_count": 1,
   "id": "d22ca9f1",
   "metadata": {},
   "outputs": [
    {
     "name": "stdout",
     "output_type": "stream",
     "text": [
      "Square: 100\n",
      "Cube: 1000\n",
      "Done!\n"
     ]
    }
   ],
   "source": [
    "\n",
    "\n",
    "import threading\n",
    "\n",
    "\n",
    "def print_cube(num):\n",
    "    \"\"\"\n",
    "    function to print cube of given num\n",
    "    \"\"\"\n",
    "    print(\"Cube: {}\".format(num * num * num))\n",
    "\n",
    "    \n",
    "def print_square(num):\n",
    "    \"\"\"\n",
    "    function to print square of given num\n",
    "    \"\"\"\n",
    "    print(\"Square: {}\".format(num * num))\n",
    "  \n",
    "if __name__ == \"__main__\":\n",
    "    # creating thread\n",
    "    t1 = threading.Thread(target=print_square, args=(10,))\n",
    "    t2 = threading.Thread(target=print_cube, args=(10,))\n",
    "  \n",
    "    # starting thread 1\n",
    "    t1.start()\n",
    "    # starting thread 2\n",
    "    t2.start()\n",
    "  \n",
    "    # wait until thread 1 is completely executed\n",
    "    t1.join()\n",
    "    # wait until thread 2 is completely executed\n",
    "    t2.join()\n",
    "  \n",
    "    # both threads completely executed\n",
    "    print(\"Done!\")"
   ]
  },
  {
   "cell_type": "code",
   "execution_count": 8,
   "id": "d2bc4f14",
   "metadata": {},
   "outputs": [
    {
     "name": "stdout",
     "output_type": "stream",
     "text": [
      "This is my thread\n",
      "This is my thread\n",
      "This is my thread\n",
      "This is my thread\n",
      "This is my thread\n"
     ]
    }
   ],
   "source": [
    "import threading \n",
    "import datetime\n",
    "import time\n",
    "\n",
    "class thread_class(threading.Thread):\n",
    "    def run(self):\n",
    "        now = datetime.datetime.now()\n",
    "        print(\"This is my thread\")\n",
    "        (self.getName,now)\n",
    "for i in range(5):\n",
    "    t = thread_class()\n",
    "    time.sleep(0.5)\n",
    "    t.start()"
   ]
  },
  {
   "cell_type": "code",
   "execution_count": 9,
   "id": "104c9397",
   "metadata": {},
   "outputs": [
    {
     "name": "stdout",
     "output_type": "stream",
     "text": [
      "ID of process running main program: 22600\n",
      "Main thread name: MainThread\n",
      "Task 1 assigned to thread: t1Task 2 assigned to thread: t2\n",
      "ID of process running task 1: 22600\n",
      "\n",
      "ID of process running task 2: 22600\n"
     ]
    }
   ],
   "source": [
    "# Python program to illustrate the concept\n",
    "# of threading\n",
    "import threading\n",
    "import os\n",
    "\n",
    "def task1():\n",
    "    print(\"Task 1 assigned to thread: {}\".format(threading.current_thread().name))\n",
    "    print(\"ID of process running task 1: {}\".format(os.getpid()))\n",
    "\n",
    "\n",
    "def task2():\n",
    "    print(\"Task 2 assigned to thread: {}\".format(threading.current_thread().name))\n",
    "    print(\"ID of process running task 2: {}\".format(os.getpid()))\n",
    "\n",
    "if __name__ == \"__main__\":\n",
    "\n",
    "    # print ID of current process\n",
    "    print(\"ID of process running main program: {}\".format(os.getpid()))\n",
    "\n",
    "    # print name of main thread\n",
    "    print(\"Main thread name: {}\".format(threading.current_thread().name))\n",
    "\n",
    "    # creating threads\n",
    "    t1 = threading.Thread(target=task1, name='t1')\n",
    "    t2 = threading.Thread(target=task2, name='t2')\n",
    "\n",
    "    # starting threads\n",
    "    t1.start()\n",
    "    t2.start()\n",
    "\n",
    "\t# wait until all threads finish\n",
    "    t1.join()\n",
    "    t2.join()\n"
   ]
  },
  {
   "cell_type": "code",
   "execution_count": 5,
   "id": "eb7ecf8c",
   "metadata": {},
   "outputs": [
    {
     "name": "stdout",
     "output_type": "stream",
     "text": [
      "Hello\n",
      "Hi\n",
      "Hello\n",
      "Hi\n",
      "Hello\n",
      "Hi\n",
      "Hello\n",
      "Hi\n",
      "Hello\n",
      "Hi\n"
     ]
    }
   ],
   "source": [
    "import threading \n",
    "import time\n",
    "class my_thread(threading.Thread):\n",
    "    def run(self):\n",
    "        for i in range(5):\n",
    "            print(\"Hello\")\n",
    "            time.sleep(0.5)\n",
    "\n",
    "        \n",
    "        \n",
    "class my_thread2(threading.Thread):\n",
    "    def run(self):\n",
    "        for i in range(5):\n",
    "            print(\"Hi\")\n",
    "            time.sleep(0.5)\n",
    "    \n",
    "        \n",
    "t1 = my_thread()\n",
    "t2 = my_thread2()\n",
    "t1.start()\n",
    "t2.start()"
   ]
  },
  {
   "cell_type": "code",
   "execution_count": null,
   "id": "00717d6d",
   "metadata": {},
   "outputs": [],
   "source": []
  }
 ],
 "metadata": {
  "kernelspec": {
   "display_name": "Python 3 (ipykernel)",
   "language": "python",
   "name": "python3"
  },
  "language_info": {
   "codemirror_mode": {
    "name": "ipython",
    "version": 3
   },
   "file_extension": ".py",
   "mimetype": "text/x-python",
   "name": "python",
   "nbconvert_exporter": "python",
   "pygments_lexer": "ipython3",
   "version": "3.9.7"
  }
 },
 "nbformat": 4,
 "nbformat_minor": 5
}
