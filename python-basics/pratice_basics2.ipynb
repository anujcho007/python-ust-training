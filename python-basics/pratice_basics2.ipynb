{
 "cells": [
  {
   "cell_type": "code",
   "execution_count": 35,
   "id": "46139ab0",
   "metadata": {},
   "outputs": [
    {
     "name": "stdout",
     "output_type": "stream",
     "text": [
      "[24, 35, 9, 56, 12]\n"
     ]
    }
   ],
   "source": [
    "# Python3 program to swap first\n",
    "# and last element of a list\n",
    " \n",
    "# Swap function\n",
    "def swapList(newList):\n",
    "    size = len(newList)\n",
    "     \n",
    "    # Swapping\n",
    "    temp = newList[0]\n",
    "    newList[0] = newList[size - 1]\n",
    "    newList[size - 1] = temp\n",
    "     \n",
    "    return newList\n",
    "     \n",
    "# Driver code\n",
    "newList = [12, 35, 9, 56, 24]\n",
    " \n",
    "print(swapList(newList))"
   ]
  },
  {
   "cell_type": "code",
   "execution_count": null,
   "id": "67aec090",
   "metadata": {},
   "outputs": [],
   "source": [
    "#dictionary\n",
    "my_dict = {\"furits\":\"Apple\",\"Dry Furits\":\"Almonds\",\"Fast Food\":\"Pasta\"}\n",
    "print(my_dict,'\\n')\n",
    "for i in my_dict.keys():\n",
    "    print(i)\n",
    "print(\"value in my_dict\",'\\n')\n",
    "for i in my_dict:\n",
    "    print(my_dict[i])\n",
    "for i,q in my_dict.items():\n",
    "    print(i,'\\t',\"values\",'\\t',q)"
   ]
  },
  {
   "cell_type": "code",
   "execution_count": 36,
   "id": "b312aec6",
   "metadata": {},
   "outputs": [
    {
     "name": "stdout",
     "output_type": "stream",
     "text": [
      "* \r\n",
      "* * \r\n",
      "* * * \r\n",
      "* * * * \r\n",
      "* * * * * \r\n"
     ]
    }
   ],
   "source": [
    "# Python 3.x code to demonstrate star pattern\n",
    " \n",
    "# Function to demonstrate printing pattern\n",
    "def pypart(n):\n",
    "     \n",
    "    # outer loop to handle number of rows\n",
    "    # n in this case\n",
    "    for i in range(0, n):\n",
    "     \n",
    "        # inner loop to handle number of columns\n",
    "        # values changing acc. to outer loop\n",
    "        for j in range(0, i+1):\n",
    "         \n",
    "            # printing stars\n",
    "            print(\"* \",end=\"\")\n",
    "      \n",
    "        # ending line after each row\n",
    "        print(\"\\r\")\n",
    " \n",
    "# Driver Code\n",
    "n = 5\n",
    "pypart(n)"
   ]
  },
  {
   "cell_type": "code",
   "execution_count": null,
   "id": "c29559b9",
   "metadata": {},
   "outputs": [],
   "source": [
    "#functions\n",
    "def calc(num1,num2,op):\n",
    "    if op == 'add':\n",
    "        return num1 + num2\n",
    "    if op == 'sub':\n",
    "        return num1 - num2\n",
    "    if op == 'mul':\n",
    "        return num1 * num2\n",
    "    if op == 'div':\n",
    "        return num1/num2\n",
    "num1 = int(input(\"Enter Number 1: \"))\n",
    "num2 = int(input(\"Enter Number 2: \"))\n",
    "op = input(\"Enter Opreation performed in add,sub,mul,div\")\n",
    "op.lower()\n",
    "print(calc(num1,num2,op))"
   ]
  },
  {
   "cell_type": "code",
   "execution_count": null,
   "id": "2ebd56af",
   "metadata": {},
   "outputs": [],
   "source": [
    "#class Example\n",
    "class num():\n",
    "    def multi(num1,num2):\n",
    "        return num1*num2\n",
    "    def divided(num1,num2):\n",
    "        return num1/num2\n",
    "    def sub(num1,num2):\n",
    "        return num1-num2\n",
    "        \n",
    "    def add(num1,num2):\n",
    "        return num1 + num2\n",
    "if __name__=='__main__':\n",
    "    op = num()#class object\n",
    "    print(num.add(20,10))#calling Method form class\n",
    "    print(num.sub(20,10))\n",
    "    print(num.multi(20,10))\n",
    "    print(num.divided(20,10))\n",
    "    "
   ]
  },
  {
   "cell_type": "code",
   "execution_count": 17,
   "id": "4eb041ac",
   "metadata": {},
   "outputs": [
    {
     "name": "stdout",
     "output_type": "stream",
     "text": [
      "animal name is burnno\n",
      "age is 25  \n",
      "\n"
     ]
    }
   ],
   "source": [
    "#inheritance\n",
    "class animal:\n",
    "    def name(self,name):\n",
    "        print(f'animal name is {name}')\n",
    "\n",
    "class animal_age(animal):\n",
    "    def age(self,age):\n",
    "        print(f'age is {age} ','\\n')\n",
    "\n",
    "d=animal_age()\n",
    "d.name(\"burnno\")\n",
    "d.age(25)"
   ]
  },
  {
   "cell_type": "code",
   "execution_count": 19,
   "id": "398c4ed3",
   "metadata": {},
   "outputs": [
    {
     "name": "stdout",
     "output_type": "stream",
     "text": [
      "animal name is burnno\n",
      "age is 25  \n",
      "\n",
      "Dog say wooh!\n"
     ]
    }
   ],
   "source": [
    "#multiinheritance\n",
    "class animal:\n",
    "    def name(self,name):\n",
    "        print(f'animal name is {name}')\n",
    "\n",
    "class animal_age(animal):\n",
    "    def age(self,age):\n",
    "        print(f'age is {age} ','\\n')\n",
    "\n",
    "class animal_speak(animal_age):\n",
    "    def speak(self,name):\n",
    "        print(\"Dog say wooh!\")\n",
    "\n",
    "d=animal_speak()\n",
    "d.name(\"burnno\")\n",
    "d.age(25)\n",
    "d.speak('Dog')"
   ]
  },
  {
   "cell_type": "code",
   "execution_count": null,
   "id": "6bf9f710",
   "metadata": {},
   "outputs": [],
   "source": []
  }
 ],
 "metadata": {
  "kernelspec": {
   "display_name": "Python 3 (ipykernel)",
   "language": "python",
   "name": "python3"
  },
  "language_info": {
   "codemirror_mode": {
    "name": "ipython",
    "version": 3
   },
   "file_extension": ".py",
   "mimetype": "text/x-python",
   "name": "python",
   "nbconvert_exporter": "python",
   "pygments_lexer": "ipython3",
   "version": "3.9.7"
  }
 },
 "nbformat": 4,
 "nbformat_minor": 5
}
