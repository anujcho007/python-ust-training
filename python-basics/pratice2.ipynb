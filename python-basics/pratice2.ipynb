{
 "cells": [
  {
   "cell_type": "code",
   "execution_count": null,
   "id": "5e488652",
   "metadata": {},
   "outputs": [],
   "source": [
    "#class Example\n",
    "class num():\n",
    "    def multi(num1,num2):\n",
    "        return num1*num2\n",
    "    def divided(num1,num2):\n",
    "        return num1/num2\n",
    "    def sub(num1,num2):\n",
    "        return num1-num2\n",
    "        \n",
    "    def add(num1,num2):\n",
    "        return num1 + num2\n",
    "if __name__=='__main__':\n",
    "    op = num()#class object\n",
    "    print(num.add(20,10))#calling Method form class\n",
    "    print(num.sub(20,10))\n",
    "    print(num.multi(20,10))\n",
    "    print(num.divided(20,10))\n",
    "    "
   ]
  },
  {
   "cell_type": "code",
   "execution_count": null,
   "id": "de922d87",
   "metadata": {},
   "outputs": [],
   "source": [
    "x = [\n",
    "    {\"name\":'a', \"skills\":'java, python, node.js', \"loc\":'Bangalore'}, \n",
    "    {\"name\":'b', \"skills\":'react, vue, JS', \"loc\":'Pune'}, \n",
    "    {\"name\":'c', \"skills\":'python, React', \"loc\":'Bangalore'}, \n",
    "    {\"name\":'d', \"skills\":'PHP, JS, python', \"loc\":'Bangalore'}, \n",
    "    {\"name\":'e', \"skills\":'node.js, react.js', \"loc\":'Chennai'}\n",
    "    ]\n",
    "\n",
    "# print(list(filter(lambda item:item['skills']=='java',x)))\n",
    "cc=[d['skills'] for d in x if 'skills' in d]\n",
    "print(cc)\n",
    "for i in cc:\n",
    "    if 'python' in i:\n",
    "        print(x)"
   ]
  },
  {
   "cell_type": "code",
   "execution_count": 1,
   "id": "0b7de9e2",
   "metadata": {},
   "outputs": [
    {
     "name": "stdout",
     "output_type": "stream",
     "text": [
      "Enter the first number 25\n",
      "Enter the second number 25\n",
      "Please enter add/sub/mul/div or quiit to exit:add\n",
      "Sum of 25 and 25 is 50\n"
     ]
    },
    {
     "ename": "KeyboardInterrupt",
     "evalue": "Interrupted by user",
     "output_type": "error",
     "traceback": [
      "\u001b[1;31m---------------------------------------------------------------------------\u001b[0m",
      "\u001b[1;31mKeyboardInterrupt\u001b[0m                         Traceback (most recent call last)",
      "\u001b[1;32m~\\AppData\\Local\\Temp/ipykernel_25012/3549510353.py\u001b[0m in \u001b[0;36m<module>\u001b[1;34m\u001b[0m\n\u001b[0;32m      1\u001b[0m \u001b[0mterminate\u001b[0m\u001b[1;33m=\u001b[0m \u001b[1;32mFalse\u001b[0m\u001b[1;33m\u001b[0m\u001b[1;33m\u001b[0m\u001b[0m\n\u001b[0;32m      2\u001b[0m \u001b[1;32mwhile\u001b[0m \u001b[1;32mnot\u001b[0m \u001b[0mterminate\u001b[0m\u001b[1;33m:\u001b[0m\u001b[1;33m\u001b[0m\u001b[1;33m\u001b[0m\u001b[0m\n\u001b[1;32m----> 3\u001b[1;33m     \u001b[0mn1\u001b[0m\u001b[1;33m=\u001b[0m \u001b[0minput\u001b[0m\u001b[1;33m(\u001b[0m\u001b[1;34m\"Enter the first number \"\u001b[0m\u001b[1;33m)\u001b[0m\u001b[1;33m\u001b[0m\u001b[1;33m\u001b[0m\u001b[0m\n\u001b[0m\u001b[0;32m      4\u001b[0m     \u001b[0mn2\u001b[0m\u001b[1;33m=\u001b[0m \u001b[0minput\u001b[0m\u001b[1;33m(\u001b[0m\u001b[1;34m\"Enter the second number \"\u001b[0m\u001b[1;33m)\u001b[0m\u001b[1;33m\u001b[0m\u001b[1;33m\u001b[0m\u001b[0m\n\u001b[0;32m      5\u001b[0m     \u001b[0mn1\u001b[0m \u001b[1;33m=\u001b[0m \u001b[0mint\u001b[0m\u001b[1;33m(\u001b[0m\u001b[0mn1\u001b[0m\u001b[1;33m)\u001b[0m\u001b[1;33m\u001b[0m\u001b[1;33m\u001b[0m\u001b[0m\n",
      "\u001b[1;32m~\\anaconda3\\lib\\site-packages\\ipykernel\\kernelbase.py\u001b[0m in \u001b[0;36mraw_input\u001b[1;34m(self, prompt)\u001b[0m\n\u001b[0;32m   1004\u001b[0m                 \u001b[1;34m\"raw_input was called, but this frontend does not support input requests.\"\u001b[0m\u001b[1;33m\u001b[0m\u001b[1;33m\u001b[0m\u001b[0m\n\u001b[0;32m   1005\u001b[0m             )\n\u001b[1;32m-> 1006\u001b[1;33m         return self._input_request(\n\u001b[0m\u001b[0;32m   1007\u001b[0m             \u001b[0mstr\u001b[0m\u001b[1;33m(\u001b[0m\u001b[0mprompt\u001b[0m\u001b[1;33m)\u001b[0m\u001b[1;33m,\u001b[0m\u001b[1;33m\u001b[0m\u001b[1;33m\u001b[0m\u001b[0m\n\u001b[0;32m   1008\u001b[0m             \u001b[0mself\u001b[0m\u001b[1;33m.\u001b[0m\u001b[0m_parent_ident\u001b[0m\u001b[1;33m[\u001b[0m\u001b[1;34m\"shell\"\u001b[0m\u001b[1;33m]\u001b[0m\u001b[1;33m,\u001b[0m\u001b[1;33m\u001b[0m\u001b[1;33m\u001b[0m\u001b[0m\n",
      "\u001b[1;32m~\\anaconda3\\lib\\site-packages\\ipykernel\\kernelbase.py\u001b[0m in \u001b[0;36m_input_request\u001b[1;34m(self, prompt, ident, parent, password)\u001b[0m\n\u001b[0;32m   1049\u001b[0m             \u001b[1;32mexcept\u001b[0m \u001b[0mKeyboardInterrupt\u001b[0m\u001b[1;33m:\u001b[0m\u001b[1;33m\u001b[0m\u001b[1;33m\u001b[0m\u001b[0m\n\u001b[0;32m   1050\u001b[0m                 \u001b[1;31m# re-raise KeyboardInterrupt, to truncate traceback\u001b[0m\u001b[1;33m\u001b[0m\u001b[1;33m\u001b[0m\u001b[0m\n\u001b[1;32m-> 1051\u001b[1;33m                 \u001b[1;32mraise\u001b[0m \u001b[0mKeyboardInterrupt\u001b[0m\u001b[1;33m(\u001b[0m\u001b[1;34m\"Interrupted by user\"\u001b[0m\u001b[1;33m)\u001b[0m \u001b[1;32mfrom\u001b[0m \u001b[1;32mNone\u001b[0m\u001b[1;33m\u001b[0m\u001b[1;33m\u001b[0m\u001b[0m\n\u001b[0m\u001b[0;32m   1052\u001b[0m             \u001b[1;32mexcept\u001b[0m \u001b[0mException\u001b[0m\u001b[1;33m:\u001b[0m\u001b[1;33m\u001b[0m\u001b[1;33m\u001b[0m\u001b[0m\n\u001b[0;32m   1053\u001b[0m                 \u001b[0mself\u001b[0m\u001b[1;33m.\u001b[0m\u001b[0mlog\u001b[0m\u001b[1;33m.\u001b[0m\u001b[0mwarning\u001b[0m\u001b[1;33m(\u001b[0m\u001b[1;34m\"Invalid Message:\"\u001b[0m\u001b[1;33m,\u001b[0m \u001b[0mexc_info\u001b[0m\u001b[1;33m=\u001b[0m\u001b[1;32mTrue\u001b[0m\u001b[1;33m)\u001b[0m\u001b[1;33m\u001b[0m\u001b[1;33m\u001b[0m\u001b[0m\n",
      "\u001b[1;31mKeyboardInterrupt\u001b[0m: Interrupted by user"
     ]
    }
   ],
   "source": [
    "#calculator\n",
    "terminate= False\n",
    "while not terminate:\n",
    "    n1= input(\"Enter the first number \")\n",
    "    n2= input(\"Enter the second number \")\n",
    "    n1 = int(n1)\n",
    "    n2=int(n2)\n",
    "\n",
    "    while True:\n",
    "        operation = input('Please enter add/sub/mul/div or quiit to exit:')\n",
    "        if operation== 'quit':\n",
    "            terminate =True\n",
    "            break\n",
    "        if operation not in ['add','sub','mul','div']:\n",
    "            print(\"Unknown operation\")\n",
    "            continue\n",
    "        if operation == 'add':\n",
    "            print('Sum of', n1 ,'and' ,n2 ,'is', n1+n2)\n",
    "            break\n",
    "        if operation == 'sub':\n",
    "            print('sub of', n1 ,'and' ,n2 ,'is', n1-n2)\n",
    "            break\n",
    "        if operation == 'mul':\n",
    "            print('mul of', n1 ,'and' ,n2 ,'is', n1 * n2)\n",
    "            break\n",
    "        if operation == 'div':\n",
    "            print('div of', n1 ,'and' ,n2 ,'is', n1/n2)\n",
    "            break"
   ]
  },
  {
   "cell_type": "code",
   "execution_count": 6,
   "id": "428c9dfd",
   "metadata": {},
   "outputs": [
    {
     "name": "stdout",
     "output_type": "stream",
     "text": [
      "Enter the no. of rows: 5\n",
      "    * \n",
      "   * * \n",
      "  * * * \n",
      " * * * * \n",
      "* * * * * \n"
     ]
    }
   ],
   "source": [
    "qq=int(input(\"Enter the no. of rows: \"))\n",
    "for i in range(qq):\n",
    "    for j in range(qq-i-1):\n",
    "        print(end=' ')\n",
    "    for j in range(i+1):\n",
    "        # print(j+1,end=' ')\n",
    "        print(\"*\",end=' ')\n",
    "    print( )\n"
   ]
  },
  {
   "cell_type": "code",
   "execution_count": 17,
   "id": "cc1949d6",
   "metadata": {},
   "outputs": [
    {
     "name": "stdout",
     "output_type": "stream",
     "text": [
      "animal name is burnno\n",
      "age is 25  \n",
      "\n"
     ]
    }
   ],
   "source": [
    "#inheritance\n",
    "class animal:\n",
    "    def name(self,name):\n",
    "        print(f'animal name is {name}')\n",
    "\n",
    "class animal_age(animal):\n",
    "    def age(self,age):\n",
    "        print(f'age is {age} ','\\n')\n",
    "\n",
    "d=animal_age()\n",
    "d.name(\"burnno\")\n",
    "d.age(25)"
   ]
  },
  {
   "cell_type": "code",
   "execution_count": null,
   "id": "2bf7bc1a",
   "metadata": {},
   "outputs": [],
   "source": [
    "#multiinheritance\n",
    "class animal:\n",
    "    def name(self,name):\n",
    "        print(f'animal name is {name}')\n",
    "\n",
    "class animal_age(animal):\n",
    "    def age(self,age):\n",
    "        print(f'age is {age} ','\\n')\n",
    "\n",
    "class animal_speak(animal,animal_age):\n",
    "    def speak(self,name):\n",
    "        print(\"Dog say wooh!\")\n",
    "\n",
    "d=animal_speak()\n",
    "d.name(\"burnno\")\n",
    "d.age(25)\n",
    "d.speak()"
   ]
  }
 ],
 "metadata": {
  "kernelspec": {
   "display_name": "Python 3 (ipykernel)",
   "language": "python",
   "name": "python3"
  },
  "language_info": {
   "codemirror_mode": {
    "name": "ipython",
    "version": 3
   },
   "file_extension": ".py",
   "mimetype": "text/x-python",
   "name": "python",
   "nbconvert_exporter": "python",
   "pygments_lexer": "ipython3",
   "version": "3.9.7"
  }
 },
 "nbformat": 4,
 "nbformat_minor": 5
}
