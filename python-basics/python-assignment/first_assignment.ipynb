{
 "cells": [
  {
   "cell_type": "markdown",
   "id": "a63ff580",
   "metadata": {},
   "source": [
    "# Assignment-1"
   ]
  },
  {
   "cell_type": "markdown",
   "id": "6733ed43",
   "metadata": {},
   "source": [
    "### Numbers"
   ]
  },
  {
   "cell_type": "markdown",
   "id": "ed4bae15",
   "metadata": {},
   "source": [
    "1.Find PI to the Nth Digit - Enter a number and have the program generate PI up to that many decimal places. Keep a limit to how far the program will go."
   ]
  },
  {
   "cell_type": "code",
   "execution_count": null,
   "id": "e1a032c3",
   "metadata": {},
   "outputs": [],
   "source": [
    "import math\n",
    "digits = int(input(\"enter the number?\"))\n",
    "\n",
    "def get_pi(n):\n",
    "        return round(math.pi,n)\n",
    "\n",
    "get_pi(digits)"
   ]
  },
  {
   "cell_type": "markdown",
   "id": "44b5ff56",
   "metadata": {},
   "source": [
    "2.\tFind e to the Nth Digit - Just like the previous problem, but with e instead of PI. Enter a number and have the program generate e up to that many decimal places. Keep a limit to how far the program will go."
   ]
  },
  {
   "cell_type": "code",
   "execution_count": null,
   "id": "aeb3be06",
   "metadata": {},
   "outputs": [],
   "source": [
    "import math \n",
    "\n",
    "def CalculateE(roundVal):\n",
    "    someE = round(math.e,roundVal);\n",
    "    e = str(someE)\n",
    "    someList = list(e)\n",
    "    return someE;\n",
    "roundTo = input('Enter the number of digits you want after the decimal for e: ')\n",
    "try:\n",
    "    roundint = int(roundTo);\n",
    "    print (CalculateE(roundint))\n",
    "except:\n",
    "    print (\"You did not enter an integer\")"
   ]
  },
  {
   "cell_type": "markdown",
   "id": "adffe9d9",
   "metadata": {},
   "source": [
    "3.\tFibonacci Sequence - Enter a number and have the program generate the Fibonacci sequence to that number or to the Nth number."
   ]
  },
  {
   "cell_type": "code",
   "execution_count": null,
   "id": "8da95620",
   "metadata": {},
   "outputs": [],
   "source": [
    "a=0\n",
    "b=1\n",
    "c=0\n",
    "try:\n",
    "    inp=int(input('Enter a number :'))\n",
    "    if inp >= 0:\n",
    "        print('Fibonacci sequence')\n",
    "        while (c<inp):\n",
    "            print(a,end=' ')\n",
    "            cc=a+b\n",
    "            a=b            \n",
    "            b=cc\n",
    "            c=c+1\n",
    "    else:\n",
    "        print(\"Number is less than zero\")\n",
    "    \n",
    "except ValueError:\n",
    "    print('please enter valid Integer')\n",
    "finally:\n",
    "    if inp <= 0:\n",
    "        print(\"Please enter a postive Number.\")\n",
    "    else:\n",
    "        print('done')"
   ]
  },
  {
   "cell_type": "markdown",
   "id": "cea1a431",
   "metadata": {},
   "source": [
    "4.\tPrime Factorization - Have the user enter a number and find all Prime Factors (if there are any) and display them."
   ]
  },
  {
   "cell_type": "code",
   "execution_count": null,
   "id": "b009cb57",
   "metadata": {},
   "outputs": [],
   "source": [
    "import math\n",
    "\n",
    "n = int(input(\"enter a number: \"))\n",
    "\n",
    "\n",
    "def primefact(n):\n",
    "    while n % 2 == 0:\n",
    "        print(2),\n",
    "        n = n / 2\n",
    "\n",
    "    for i in range(3, int(math.sqrt(n) + 1), 2):\n",
    "        while n % i == 0:\n",
    "            print(i),\n",
    "            n = n / i\n",
    "\n",
    "    if n > 2:\n",
    "        print(n)\n",
    "\n",
    "\n",
    "print(primefact(n))"
   ]
  },
  {
   "cell_type": "markdown",
   "id": "60a390f1",
   "metadata": {},
   "source": [
    "### Classic Algorithms"
   ]
  },
  {
   "cell_type": "markdown",
   "id": "2be3559f",
   "metadata": {},
   "source": [
    "23.\tCollatz Conjecture - Start with a number n > 1. Find the number of steps it takes to reach one using the following process: If n is even, divide it by 2. If n is odd, multiply it by 3 and add 1."
   ]
  },
  {
   "cell_type": "code",
   "execution_count": null,
   "id": "565b0e3a",
   "metadata": {},
   "outputs": [],
   "source": [
    "def collatz_fun(inp,count=0):\n",
    "    if inp<=1:\n",
    "        return count\n",
    "    if inp%2==0:\n",
    "        return collatz_fun(inp/2,count+1)\n",
    "    else:\n",
    "        return collatz_fun(inp*3+1,count+1)\n",
    "\n",
    "inp=int(input(\"Enter the number :\"))\n",
    "\n",
    "collatz_fun(inp)\n",
    "\n"
   ]
  },
  {
   "cell_type": "markdown",
   "id": "febaa8b5",
   "metadata": {},
   "source": [
    " 24.\tSorting - Implement two types of sorting algorithms: Merge sort and bubble sort."
   ]
  },
  {
   "cell_type": "code",
   "execution_count": null,
   "id": "5ef51e3f",
   "metadata": {
    "scrolled": true
   },
   "outputs": [],
   "source": [
    "# merge sort\n",
    "def merge_sort(a):\n",
    "    if len(a)>1:\n",
    "        r=len(a)//2\n",
    "        left_a = a[:r]\n",
    "        right_a = a[r:]\n",
    "        \n",
    "        merge_sort(left_a)\n",
    "        merge_sort(right_a)\n",
    "        \n",
    "        i,j,k=0,0,0\n",
    "        \n",
    "        while i<len(left_a) and j<len(right_a):\n",
    "            if left_a[i] < right_a[j]:\n",
    "                a[k]=left_a[i]\n",
    "                i=i+1\n",
    "            else:\n",
    "                a[k]=right_a[j]\n",
    "                j=j+1\n",
    "            k=k+1\n",
    "            \n",
    "        while i<len(left_a):\n",
    "            a[k]=left_a[i]\n",
    "            i=i+1\n",
    "            k=k+1\n",
    "            \n",
    "        while j<len(right_a):\n",
    "            a[k]=right_a[j]\n",
    "            j=j+1\n",
    "            k=k+1\n",
    "            \n",
    "def show(a):\n",
    "    for i in range(len(a)):\n",
    "        print(a[i],end=' ')\n",
    "    print()\n",
    "    \n",
    "\n",
    "\n",
    "a=[7,8,4,54,9,54,97,23]\n",
    "print('before sorting: ',end='')\n",
    "show(a)\n",
    "merge_sort(a)\n",
    "print('after sorting: ',end='')\n",
    "show(a)\n"
   ]
  },
  {
   "cell_type": "code",
   "execution_count": null,
   "id": "425afaa3",
   "metadata": {},
   "outputs": [],
   "source": [
    "# bubble sort\n",
    "def bubble_sort(l1):  \n",
    "    # Outer loop for traverse the entire list  \n",
    "    for i in range(0,len(l1)-1):  \n",
    "        for j in range(len(l1)-1):  \n",
    "            if(l1[j]>l1[j+1]):   \n",
    "                # here we are not using temp variable  \n",
    "                l1[j],l1[j+1] = l1[j+1], l1[j]  #swapping\n",
    "    return l1  \n",
    "  \n",
    "l1 = [5, 3, 8, 6, 7, 1]  \n",
    "# print(len(l1)\n",
    "print(\"The unsorted list is: \", l1)  \n",
    "# Calling the bubble sort function  \n",
    "print(\"The sorted list is: \", bubble_sort(l1))  "
   ]
  },
  {
   "cell_type": "markdown",
   "id": "75e5f77f",
   "metadata": {},
   "source": [
    "## Text"
   ]
  },
  {
   "cell_type": "markdown",
   "id": "413d7601",
   "metadata": {},
   "source": [
    "33.\tFizz Buzz - Write a program that prints the numbers from 1 to 100. But for multiples of three print “Fizz” instead of the number and for the multiples of five print “Buzz”. For numbers which are multiples of both three and five print “FizzBuzz”."
   ]
  },
  {
   "cell_type": "code",
   "execution_count": null,
   "id": "ba5b7a46",
   "metadata": {},
   "outputs": [],
   "source": [
    "print(\"FizzBuzz Program\",'\\n')\n",
    "for num in range(1, 100):\n",
    "    if num % 3 == 0 and num % 5 == 0:\n",
    "        print(\"FizzBuzz\")\n",
    "    elif num % 3 == 0:\n",
    "        print(\"Fizz\")\n",
    "    elif num % 5 == 0:\n",
    "        print(\"Buzz\")\n",
    "    else:\n",
    "        print(num)"
   ]
  },
  {
   "cell_type": "markdown",
   "id": "5914ee23",
   "metadata": {},
   "source": [
    "34.\tReverse a String - Enter a string and the program will reverse it and print it out."
   ]
  },
  {
   "cell_type": "code",
   "execution_count": null,
   "id": "84caeb69",
   "metadata": {},
   "outputs": [],
   "source": [
    "try:\n",
    "    inp=input('Enter the string:')\n",
    "    str1=''\n",
    "    for i in inp:\n",
    "        str1=i+str1\n",
    "        print(\"reversed string: \",str1)\n",
    "    \n",
    "except ValueError:\n",
    "    print('Enter valid string')\n",
    "    "
   ]
  },
  {
   "cell_type": "code",
   "execution_count": null,
   "id": "e51eb028",
   "metadata": {},
   "outputs": [],
   "source": [
    "s1 = input(\"Enter a String:\")\n",
    "print(s1[::-1])"
   ]
  },
  {
   "cell_type": "markdown",
   "id": "b52bcd8a",
   "metadata": {},
   "source": [
    "43.\tVigenere / Vernam / Ceasar Ciphers - Functions for encrypting and decrypting data messages. Then send them to a friend."
   ]
  },
  {
   "cell_type": "code",
   "execution_count": null,
   "id": "ee71cc56",
   "metadata": {},
   "outputs": [],
   "source": [
    "# # vigenere cipher -algorithm for encrypting and decrypting the text\n",
    "# formul a=(x-n)%26\n",
    "\n",
    "def encrypt_msg(text,s):\n",
    "    ciper='' #empty string variable\n",
    "    for i in text:\n",
    "        if i==' ':\n",
    "            ciper=ciper+i #message is empty so no change\n",
    "        elif i.isupper():  #checking if string character is uppercase\n",
    "            ciper=ciper+chr((ord(i)+s-65)%26+65) \n",
    "            #extracted order of character(ord(i))\n",
    "            #ord() function return unicode from the character for example a=1,b=2,c=3\n",
    "            #ascci value of upper case is started from 65\n",
    "        else:\n",
    "            ciper=ciper+chr((ord(i)+s-97)%26+97)\n",
    "    return ciper\n",
    " \n",
    "\n",
    "text=input(\"Enter the message:\") #message\n",
    "s=int(input('Enter the key:'))  #key for shift\n",
    "print('original message: ',text)\n",
    "print('encrypted message: ',encrypt_msg(text,s))\n",
    "\n",
    "# a b c d e f g h i j k l m n o p q r s t u v w x y z\n",
    "# A B C D E F G H I J K L M N O P Q R S T U V W X Y Z"
   ]
  },
  {
   "cell_type": "markdown",
   "id": "72cf02d0",
   "metadata": {},
   "source": [
    "## Networking"
   ]
  },
  {
   "cell_type": "markdown",
   "id": "8eb8ad23",
   "metadata": {},
   "source": [
    "45.\tFTP Program - A file transfer program which can transfer files back and forth from a remote web sever."
   ]
  },
  {
   "cell_type": "code",
   "execution_count": null,
   "id": "cf45681e",
   "metadata": {},
   "outputs": [],
   "source": [
    "# I am using DLPTEST  server\n",
    "\n",
    "# FTP URL: ftp.dlptest.com or ftp://ftp.dlptest.com/\n",
    "# FTP User: dlpuser\n",
    "# Password: rNrKYTX9g7z3RgJRmxWuGHbeu\n",
    "\n",
    "# https://dlptest.com/ftp-test/"
   ]
  },
  {
   "cell_type": "code",
   "execution_count": null,
   "id": "4af91717",
   "metadata": {},
   "outputs": [],
   "source": [
    "import ftplib\n",
    " \n",
    "ftp = ftplib.FTP(\"ftp.nluug.nl\")\n",
    "ftp.login(\"anonymous\", \"ftplib-example-1\")\n",
    " \n",
    "data = []\n",
    " \n",
    "ftp.dir(data.append)\n",
    " \n",
    "ftp.quit()\n",
    " \n",
    "for line in data:\n",
    "    print (\"-\", line)"
   ]
  },
  {
   "cell_type": "markdown",
   "id": "e392254e",
   "metadata": {},
   "source": [
    "46.\tBandwidth Monitor - A small utility program that tracks how much data you have uploaded and downloaded from the net during the course of your current online session. See if you can find out what periods of the day you use more and less and generate a report or graph that shows it."
   ]
  },
  {
   "cell_type": "code",
   "execution_count": null,
   "id": "900fe7bf",
   "metadata": {},
   "outputs": [],
   "source": [
    "def humanbytes(B):\n",
    "    B = float(B)\n",
    "    KB = float(1024)\n",
    "    MB = float(KB ** 2) # 1,048,576\n",
    "    GB = float(KB ** 3) # 1,073,741,824\n",
    "    TB = float(KB ** 4) # 1,099,511,627,776\n",
    "\n",
    "    if B < KB:\n",
    "        return '{0} {1}'.format(B,'Bytes' if 0 == B > 1 else 'Byte')\n",
    "    elif KB <= B < MB:\n",
    "        return '{0:.2f} KB'.format(B / KB)\n",
    "    elif MB <= B < GB:\n",
    "        return '{0:.2f} MB'.format(B / MB)\n",
    "    elif GB <= B < TB:\n",
    "        return '{0:.2f} GB'.format(B / GB)\n",
    "    elif TB <= B:\n",
    "        return '{0:.2f} TB'.format(B / TB)\n",
    "\n",
    "\n",
    "tests = [1, 1024, 500000, 1048576, 50000000, 1073741824, 5000000000, 1099511627776, 5000000000000]\n",
    "\n",
    "for t in tests: print(\"{0} == {1}\".format(t,humanbytes(t)))"
   ]
  },
  {
   "cell_type": "code",
   "execution_count": null,
   "id": "1d01e6f2",
   "metadata": {},
   "outputs": [],
   "source": [
    "import tkinter as tk\n",
    "import psutil\n",
    "\n",
    "\n",
    "KB = float(1024)\n",
    "MB = float(KB ** 2) # 1,048,576\n",
    "GB = float(KB ** 3) # 1,073,741,824\n",
    "TB = float(KB ** 4) # 1,099,511,627,776\n",
    "\n",
    "def size(B):                                      #format size \n",
    "    B = float(B)\n",
    "    if B < KB:               #byte\n",
    "        return '{0} {1}'.format(B,'Bytes' if 0 == B > 1 else 'Byte')     \n",
    "    elif KB <= B < MB:         #to kb\n",
    "        return '{0:.2f} KB'.format(B / KB)\n",
    "    elif MB <= B < GB:          #to mb\n",
    "        return '{0:.2f} MB'.format(B / MB)\n",
    "    elif GB <= B < TB:        #to gb\n",
    "        return '{0:.2f} GB'.format(B / GB)\n",
    "    elif TB <= B:                       #to tb\n",
    "        return '{0:.2f} TB'.format(B / TB)\n",
    "\n",
    "\n",
    "## Constants\n",
    "WINDOW_SIZE = (300, 300)  # Width x Height\n",
    "WINDOW_RESIZEABLE = True  # If the window is resizeable or not.\n",
    "REFRESH_DELAY = 1500 # Window update delay in ms.\n",
    "\n",
    "## Initializing\n",
    "window = tk.Tk()\n",
    "\n",
    "window.title(\"Bandwidth Monitor\")  # Setting the window title.\n",
    "window.geometry(f\"{WINDOW_SIZE[0]}x{WINDOW_SIZE[1]}\")  # Setting the window size.\n",
    "window.resizable(width = WINDOW_RESIZEABLE, height = WINDOW_RESIZEABLE)  # We now lock the window.\n",
    "\n",
    "label_total_upload_header = tk.Label(text = \"Total Upload:\", font = \"Quicksand 12 bold\")\n",
    "label_total_upload_header.pack()\n",
    "label_total_upload = tk.Label(text = \"Calculating...\", font = \"Quicksand 12\")\n",
    "label_total_upload.pack()\n",
    "\n",
    "label_total_download_header = tk.Label(text = \"Total Download:\", font = \"Quicksand 12 bold\")\n",
    "label_total_download_header.pack()\n",
    "label_total_download = tk.Label(text = \"Calculating...\", font = \"Quicksand 12\")\n",
    "label_total_download.pack()\n",
    "\n",
    "label_total_usage_header = tk.Label(text = \"Total Usage:\", font = \"Quicksand 12 bold\")\n",
    "label_total_usage_header.pack()\n",
    "label_total_usage = tk.Label(text = \"Calculating...\\n\", font = \"Quicksand 12\")\n",
    "label_total_usage.pack()\n",
    "\n",
    "label_upload_header = tk.Label(text = \"Upload:\", font = \"Quicksand 12 bold\")\n",
    "label_upload_header.pack()\n",
    "label_upload = tk.Label(text = \"Calculating...\", font = \"Quicksand 12\")\n",
    "label_upload.pack()\n",
    "\n",
    "label_download_header = tk.Label(text = \"Download:\", font = \"Quicksand 12 bold\")\n",
    "label_download_header.pack()\n",
    "label_download = tk.Label(text = \"Calculating...\", font = \"Quicksand 12\")\n",
    "label_download.pack()\n",
    "\n",
    "attribution = tk.Label(text = \"___UST GLOBAL___\", font = \"Quicksand 10 italic bold\")\n",
    "attribution.pack()\n",
    "\n",
    "\n",
    "## Variables\n",
    "last_upload=0\n",
    "last_download=0\n",
    "upload_speed=0 \n",
    "down_speed = 0\n",
    "\n",
    "# Updating Labels\n",
    "def update():\n",
    "    global last_upload, last_download, upload_speed, down_speed\n",
    "    counter = psutil.net_io_counters()\n",
    "    upload = counter.bytes_sent\n",
    "    download = counter.bytes_recv\n",
    "    total = upload + download\n",
    "\n",
    "    if last_upload > 0:\n",
    "        if upload < last_upload:\n",
    "            upload_speed = 0\n",
    "        else:\n",
    "            upload_speed = upload - last_upload\n",
    "\n",
    "    if last_download > 0:\n",
    "        if download < last_download:\n",
    "            down_speed = 0\n",
    "        else:\n",
    "            down_speed = download - last_download\n",
    "\n",
    "    last_upload = upload\n",
    "    last_download = download\n",
    "\n",
    "    label_total_upload[\"text\"] = f\"{size(upload)} ({upload} Bytes)\"\n",
    "    label_total_download[\"text\"] = f\"{size(download)} ({download} Bytes)\"\n",
    "    label_total_usage[\"text\"] = f\"{size(total)}\\n\"\n",
    "\n",
    "    label_upload[\"text\"] = size(upload_speed)\n",
    "    label_download[\"text\"] = size(down_speed)\n",
    "\n",
    "    label_total_upload.pack()\n",
    "    label_total_download.pack()\n",
    "    label_total_usage.pack()\n",
    "    label_upload.pack()\n",
    "    label_download.pack()\n",
    "\n",
    "    window.after(REFRESH_DELAY, update)  # reschedule event in refresh delay.\n",
    "\n",
    "window.after(REFRESH_DELAY, update)\n",
    "window.mainloop()"
   ]
  },
  {
   "cell_type": "markdown",
   "id": "2e05ff8e",
   "metadata": {},
   "source": [
    "## classes"
   ]
  },
  {
   "cell_type": "markdown",
   "id": "b4e3d871",
   "metadata": {},
   "source": [
    "52.\tProduct Inventory Project - Create an application which manages an inventory of products. Create a product class which has a price, id, and quantity on hand. Then create an inventory class which keeps track of various products and can sum up the inventory value."
   ]
  },
  {
   "cell_type": "code",
   "execution_count": null,
   "id": "6b6b8df0",
   "metadata": {},
   "outputs": [],
   "source": [
    "\n",
    "\n",
    "\n",
    "class Product:\n",
    "    def __init__(self,pId,name,price,quantity):\n",
    "        \"\"\"\n",
    "        Initialises attributes\n",
    "        \"\"\"\n",
    "\n",
    "        self.id = pId\n",
    "        self.name = name\n",
    "        self.price = price\n",
    "        self.quantity = quantity\n",
    "\n",
    "    def updatePrice(self,new_price):\n",
    "        \"\"\"\n",
    "        Updates the product's price\n",
    "        \"\"\"\n",
    "        if new_price > 0:\n",
    "            self.price = new_price\n",
    "        else:\n",
    "            print (\"Error! Cannot update price to lower than or equal to zero.\")\n",
    "\n",
    "    def updateQuantity(self,new_quantity,isIncrement):\n",
    "        \"\"\"\n",
    "        Allows to update the quantity of the product\n",
    "        by incrementing or decrementing the quantity\n",
    "        depending on the value of isIncrement variable.\n",
    "        \"\"\"\n",
    "        if isIncrement is True:\n",
    "            self.quantity += new_quantity\n",
    "        elif (self.quantity - new_quantity) >= 0:\n",
    "            self.quantity -= new_quantity\n",
    "        else:\n",
    "            print (\"Error, cannot reduce further!\")\n",
    "\n",
    "    def getQuantity(self):\n",
    "        \"\"\"\n",
    "        Returns the current quantity of the product.\n",
    "        \"\"\"\n",
    "        return self.quantity\n",
    "\n",
    "    def viewProduct(self):\n",
    "        \"\"\"\n",
    "        Displays the product's information through print\n",
    "        \"\"\"\n",
    "        print (\"Product ID: \" + str(self.id) + \", Name: \" + self.name + \", Price: \" + \\\n",
    "        str(self.price) + \", Quantity: \" + str(self.quantity))\n",
    "\n",
    "\n",
    "class Inventory:\n",
    "    def __init__(self):\n",
    "        \"\"\"\n",
    "        Initialises attribute\n",
    "        \"\"\"\n",
    "        self.listProd = []\n",
    "\n",
    "    def addProduct(self,pId):\n",
    "        \"\"\"\n",
    "        Add new product to the list\n",
    "        \"\"\"\n",
    "        self.listProd.append(pId)\n",
    "\n",
    "    def removeProduct(self,pId):\n",
    "        \"\"\"\n",
    "        removes a product from the list\n",
    "        \"\"\"\n",
    "        if pId in self.listProd:\n",
    "            self.listProd.remove(pId)\n",
    "        else:\n",
    "            print (\"Error. Product is not in the inventory.\")\n",
    "    \n",
    "    def viewInventory(self):\n",
    "        \"\"\"\n",
    "        Displays inventory list through print\n",
    "        \"\"\"\n",
    "        print (self.listProd)\n",
    "\n",
    "if __name__ == '__main__':       \n",
    "    prod1 = Product(1,\"colgate\",2.20,5)\n",
    "    print (prod1.getQuantity())\n",
    "    prod1.updateQuantity(2,True)\n",
    "    prod1.viewProduct()\n",
    "\n",
    "    invent1 = Inventory()\n",
    "    invent1.addProduct(1)\n",
    "    invent1.removeProduct(2)\n",
    "    invent1.viewInventory()"
   ]
  },
  {
   "cell_type": "markdown",
   "id": "a5dea3dd",
   "metadata": {},
   "source": [
    "53.\tAirline / Hotel Reservation System - Create a reservation system which books airline seats or hotel rooms. It charges various rates for particular sections of the plane or hotel. Example, first class is going to cost more than coach. Hotel rooms have penthouse suites which cost more. Keep track of when rooms will be available and can be scheduled."
   ]
  },
  {
   "cell_type": "code",
   "execution_count": null,
   "id": "ba9e0902",
   "metadata": {},
   "outputs": [],
   "source": [
    "# Ticket Booking System.\n",
    "def print_tickets():\n",
    "    \"\"\"Print the tickets of the user.\"\"\"\n",
    "    for user_name, seats in user_tickets.items():\n",
    "        print(f\"\\nYou, {user_name.title()}, have chosen {len(seats)} seat(s).\")\n",
    "        for seat in seats:\n",
    "            print(f\"\\tSeat number: {seat}\")\n",
    "        p=seat\n",
    "        print(p)\n",
    "            \n",
    "\n",
    "\n",
    "# Empty dictionary to store info later on.\n",
    "user_tickets = {}\n",
    "\n",
    "# List of seats the user can choose from.\n",
    "available_seats = ['1a', '2a', '19b', '20d', '21e', '13g', '15f', '14f', '13a', '12g' ]\n",
    "price=3150\n",
    "\n",
    "\n",
    "# All prompts.\n",
    "start_prompt = \"\\nWould you like to start booking your ticket? (yes/no) \"\n",
    "wanted_seats_prompt = \"\\nHow many seats are you booking today?\"\n",
    "wanted_seats_prompt += \"\\nEnter the number: \"\n",
    "name_prompt = \"What is your name? \"\n",
    "seat_prompt = \"\\nPlease enter the number of the seat you would like to book: \"\n",
    "go_again_prompt = \"Would you like to let someone else book their tickets? (yes/no) \"\n",
    "\n",
    "\n",
    "print(\"Welcome To The Seat Booking Portal!\")\n",
    "\n",
    "start = input(start_prompt)\n",
    "if start.lower() == 'yes':\n",
    "    while True:\n",
    "        seats = []\n",
    "\n",
    "        wanted_seats = input(wanted_seats_prompt)\n",
    "        wanted_seats = int(wanted_seats)\n",
    "        if wanted_seats > len(available_seats):\n",
    "            print(f\"\\n--I'm sorry, we only have {len(available_seats)} \"\n",
    "                \"seats available--\")\n",
    "            print(\"--Please try again--\")\n",
    "            continue\n",
    "\n",
    "        user_name = input(name_prompt)\n",
    "\n",
    "        while True:\n",
    "\n",
    "            print(\"\\nHere are the available seats:\")\n",
    "            for seat in available_seats:\n",
    "                print(seat)\n",
    "\n",
    "            seat = input(seat_prompt)\n",
    "\n",
    "            if seat in available_seats:\n",
    "                available_seats.remove(seat)\n",
    "            else:\n",
    "                print(\"\\n--I'm sorry you have chosen an invalid seat--\"\n",
    "                    \"\\n-Please try again-\")\n",
    "                continue\n",
    "\n",
    "            seats.append(seat)\n",
    "            if wanted_seats > 1:\n",
    "                print(\"\\nYou can now choose another seat.\")\n",
    "                wanted_seats-=1\n",
    "                continue\n",
    "            else:\n",
    "                break\n",
    "        user_tickets[user_name] = seats\n",
    "        if available_seats:\n",
    "            go_again = input(go_again_prompt)\n",
    "            if go_again == 'no':\n",
    "                break\n",
    "        else:\n",
    "            break\n",
    "\n",
    "    print_tickets()\n",
    "    print(\"\\nWe will now redirect you to the payment portal.\"\n",
    "        \"\\nThank You for choosing us.\")\n",
    "\n",
    "else:\n",
    "    print(\"You can always come by later!\")"
   ]
  },
  {
   "cell_type": "markdown",
   "id": "8a3396bc",
   "metadata": {},
   "source": [
    "## Threading"
   ]
  },
  {
   "cell_type": "markdown",
   "id": "cafe5d96",
   "metadata": {},
   "source": [
    "62.\tCreate A Progress Bar for Downloads - Create a progress bar for applications that can keep track of a download in progress. The progress bar will be on a separate thread and will communicate with the main thread using delegates."
   ]
  },
  {
   "cell_type": "code",
   "execution_count": null,
   "id": "283c136d",
   "metadata": {},
   "outputs": [],
   "source": [
    "import progressbar\n",
    "import time\n",
    "def animated_maker():\n",
    "    widgets=['Loading',progressbar.AnimatedMarker()]\n",
    "    bar=progressbar.ProgressBar(widgets=widgets).start()\n",
    "    for i in range(50):\n",
    "        time.sleep(0.2)\n",
    "        bar.update(i)\n",
    "animated_maker()"
   ]
  },
  {
   "cell_type": "markdown",
   "id": "7c9ebb29",
   "metadata": {},
   "source": [
    "63.\tBulk Thumbnail Creator - Picture processing can take a bit of time for some transformations. Especially if the image is large. Create an image program which can take hundreds of images and "
   ]
  },
  {
   "cell_type": "code",
   "execution_count": 1,
   "id": "69baa87a",
   "metadata": {},
   "outputs": [
    {
     "name": "stdout",
     "output_type": "stream",
     "text": [
      "THUMBNAIL_CREATOR\n",
      "enter the width in pixels: 250\n",
      "enter the height in pixels: 250\n",
      "images/example.jpg --thumbnail_created\n",
      "images/pencils.jpg --thumbnail_created\n",
      "images/red_color.jpg --thumbnail_created\n",
      "finished\n"
     ]
    }
   ],
   "source": [
    "import os, sys\n",
    "from PIL import Image\n",
    "import time\n",
    "path = \"images/\"\n",
    "paths = \"thumbnail_images\"\n",
    "if not os.path.exists(paths):\n",
    "    os.makedirs('thumbnail_images')\n",
    "\n",
    "dirs = os.listdir(path)\n",
    "print (\"THUMBNAIL_CREATOR\")\n",
    "width = int(input(\"enter the width in pixels: \"))\n",
    "height = int(input(\"enter the height in pixels: \"))\n",
    "for file in dirs:\n",
    "    image_path=path+file\n",
    "    print (image_path,\"--thumbnail_created\")\n",
    "    im = Image.open(image_path)\n",
    "    resize = im.resize((width,height),Image.ANTIALIAS)\n",
    "    resize.save(\"thumbnail_images/resized\"+file+\".jpg\")\n",
    "\n",
    "\n",
    "t =  time.sleep(1)\n",
    "print (\"finished\")"
   ]
  },
  {
   "cell_type": "markdown",
   "id": "50625f95",
   "metadata": {},
   "source": [
    "## Files"
   ]
  },
  {
   "cell_type": "markdown",
   "id": "c5895771",
   "metadata": {},
   "source": [
    "73.\tQuiz Maker - Make an application which takes various questions from a file, picked randomly, and puts together a quiz for students. Each quiz can be different and then reads a key to grade the quizzes."
   ]
  },
  {
   "cell_type": "code",
   "execution_count": null,
   "id": "307232ad",
   "metadata": {},
   "outputs": [],
   "source": [
    "def main():\n",
    "    \n",
    "    qs={\n",
    "        'good':'bad',\n",
    "        'yes':'no',\n",
    "        'day':'night',\n",
    "        'up ':'down',\n",
    "        'slow':'fast',\n",
    "        'black':'white'\n",
    "       }\n",
    "    \n",
    "    \n",
    "    name= input(\"Please enter your name: \").title()\n",
    "    \n",
    "    print()\n",
    "    print(\"\\nWell done {0}, you scored {1} out of {2}.\".format(name, quiz(qs), len(qs)))\n",
    "    \n",
    "def quiz(qs):\n",
    "    score = 0\n",
    "    for q,a in qs.items():\n",
    "        if input(q).lower() == a.lower():\n",
    "            score += 1\n",
    "            print(\"Correct.\")\n",
    "        else:\n",
    "            print(\"Sorry, correct answer is \\\"{}\\\".\".format(a))\n",
    "    return score\n",
    " \n",
    "\n",
    "if __name__ == \"__main__\":\n",
    "    print('opposite word')\n",
    "    print(\"*** Quiz ***\\n\")\n",
    "    main()"
   ]
  },
  {
   "cell_type": "markdown",
   "id": "658118b8",
   "metadata": {},
   "source": [
    "74.\tSort Excel/CSV File Utility - Reads a file of records, sorts them, and then writes them back to the file. Allow the user to choose various sort style and sorting based on a particular field."
   ]
  },
  {
   "cell_type": "code",
   "execution_count": null,
   "id": "1692a67c",
   "metadata": {},
   "outputs": [],
   "source": [
    "import csv\n",
    "w= open('example.csv' , encoding='UTF-8')\n",
    "read=csv.reader(w)\n",
    "sli=list(read)\n",
    "full_name=[]\n",
    "for i in sli[1:6]:\n",
    "    full_name.append(i[0]+'_'+i[1])\n",
    "print(full_name)"
   ]
  },
  {
   "cell_type": "markdown",
   "id": "848f9002",
   "metadata": {},
   "source": [
    "76.\tPDF Generator - An application which can read in a text file, html file or some other file and generates a PDF file out of it. Great for a web based service where the user uploads the file and the program returns a PDF of the file. Optional: Deploy on GAE or Heroku if possible."
   ]
  },
  {
   "cell_type": "code",
   "execution_count": null,
   "id": "97057bd0",
   "metadata": {},
   "outputs": [],
   "source": [
    "import PyPDF2\n",
    "with open('WBP.pdf','rb')as pdf_handle:\n",
    "    pdf_reader=PyPDF2.PdfFileReader(pdf_handle)\n",
    "    page_one=pdf_reader.getPage(0)\n",
    "    pdf_writer=PyPDF2.PdfFileWriter()\n",
    "    pdf_writer.addPage(page_one)\n",
    "    pdf_output= open('new.pdf','wb')\n",
    "    pdf_writer.write(pdf_output)\n",
    "    pdf_output.close"
   ]
  },
  {
   "cell_type": "code",
   "execution_count": null,
   "id": "1258980b",
   "metadata": {},
   "outputs": [],
   "source": []
  }
 ],
 "metadata": {
  "kernelspec": {
   "display_name": "Python 3 (ipykernel)",
   "language": "python",
   "name": "python3"
  },
  "language_info": {
   "codemirror_mode": {
    "name": "ipython",
    "version": 3
   },
   "file_extension": ".py",
   "mimetype": "text/x-python",
   "name": "python",
   "nbconvert_exporter": "python",
   "pygments_lexer": "ipython3",
   "version": "3.9.7"
  }
 },
 "nbformat": 4,
 "nbformat_minor": 5
}
