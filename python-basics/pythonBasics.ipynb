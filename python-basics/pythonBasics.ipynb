{
 "cells": [
  {
   "cell_type": "code",
   "execution_count": 2,
   "id": "8eb9ff05",
   "metadata": {},
   "outputs": [
    {
     "name": "stdout",
     "output_type": "stream",
     "text": [
      "['False', 'None', 'True', '__peg_parser__', 'and', 'as', 'assert', 'async', 'await', 'break', 'class', 'continue', 'def', 'del', 'elif', 'else', 'except', 'finally', 'for', 'from', 'global', 'if', 'import', 'in', 'is', 'lambda', 'nonlocal', 'not', 'or', 'pass', 'raise', 'return', 'try', 'while', 'with', 'yield']\n"
     ]
    }
   ],
   "source": [
    "import keyword\n",
    "print(keyword.kwlist)\n"
   ]
  },
  {
   "cell_type": "code",
   "execution_count": 9,
   "id": "c77be8d2",
   "metadata": {},
   "outputs": [],
   "source": [
    "list1 = ['IND','AUS','ENGLAND']\n",
    "for item in list1:\n",
    "    print(item)"
   ]
  },
  {
   "cell_type": "code",
   "execution_count": 32,
   "id": "11fb9833",
   "metadata": {},
   "outputs": [
    {
     "ename": "SyntaxError",
     "evalue": "invalid syntax (Temp/ipykernel_22196/2816024239.py, line 4)",
     "output_type": "error",
     "traceback": [
      "\u001b[1;36m  File \u001b[1;32m\"C:\\Users\\amitc\\AppData\\Local\\Temp/ipykernel_22196/2816024239.py\"\u001b[1;36m, line \u001b[1;32m4\u001b[0m\n\u001b[1;33m    if is not 0:\u001b[0m\n\u001b[1;37m       ^\u001b[0m\n\u001b[1;31mSyntaxError\u001b[0m\u001b[1;31m:\u001b[0m invalid syntax\n"
     ]
    }
   ],
   "source": [
    "\n",
    "list1.remove(\"NZ\")\n",
    "print(list1)\n",
    "for item in list1:\n",
    "    print(item)\n",
    "    \n"
   ]
  },
  {
   "cell_type": "code",
   "execution_count": 17,
   "id": "91b1ae97",
   "metadata": {},
   "outputs": [
    {
     "data": {
      "text/plain": [
       "True"
      ]
     },
     "execution_count": 17,
     "metadata": {},
     "output_type": "execute_result"
    }
   ],
   "source": [
    "list2=list1\n",
    "list1 is list2\n",
    "list2 is list1"
   ]
  },
  {
   "cell_type": "code",
   "execution_count": 30,
   "id": "3e0ada48",
   "metadata": {},
   "outputs": [
    {
     "name": "stdout",
     "output_type": "stream",
     "text": [
      "['ENGLAND', 'AUS', 'IND']\n"
     ]
    }
   ],
   "source": [
    "list(reversed(list1))\n",
    "print(list1)"
   ]
  },
  {
   "cell_type": "code",
   "execution_count": 36,
   "id": "e7d9ac23",
   "metadata": {},
   "outputs": [
    {
     "name": "stdout",
     "output_type": "stream",
     "text": [
      "10\n",
      "20\n"
     ]
    }
   ],
   "source": [
    "a=10\n",
    "def function():\n",
    "    global a\n",
    "    a +=10\n",
    "    print(a)\n",
    "print(a)\n",
    "function()\n",
    "\n"
   ]
  },
  {
   "cell_type": "code",
   "execution_count": 37,
   "id": "ac1bfc58",
   "metadata": {},
   "outputs": [
    {
     "name": "stdout",
     "output_type": "stream",
     "text": [
      "('Anil', 'Anuj', 'Gousiya')\n"
     ]
    }
   ],
   "source": [
    "mytuple = (\"Anil\",\"Anuj\",\"jefrry\")\n",
    "mylist = list(mytuple)\n",
    "mylist[2]=\"Gousiya\"\n",
    "mytuple = tuple(mylist)\n",
    "print(mytuple)"
   ]
  },
  {
   "cell_type": "code",
   "execution_count": 53,
   "id": "49dfb66d",
   "metadata": {},
   "outputs": [
    {
     "name": "stdout",
     "output_type": "stream",
     "text": [
      "1\n"
     ]
    }
   ],
   "source": [
    "a=\"hello,World\"\n",
    "\n",
    "print(a.count(\"h\"))"
   ]
  },
  {
   "cell_type": "code",
   "execution_count": 65,
   "id": "b3a71c57",
   "metadata": {
    "scrolled": true
   },
   "outputs": [
    {
     "name": "stdout",
     "output_type": "stream",
     "text": [
      "Enter a number which you want display a table15\n",
      "15 X 1 = 15\n",
      "15 X 2 = 30\n",
      "15 X 3 = 45\n",
      "15 X 4 = 60\n",
      "15 X 5 = 75\n",
      "15 X 6 = 90\n",
      "15 X 7 = 105\n",
      "15 X 8 = 120\n",
      "15 X 9 = 135\n",
      "15 X 10 = 150\n"
     ]
    }
   ],
   "source": [
    "#tables\n",
    "a= int(input(\"Enter a number which you want display a table\"))\n",
    "for i in range(1,11):\n",
    "    print(a ,\"X\",i,\"=\",a*i)"
   ]
  },
  {
   "cell_type": "code",
   "execution_count": 67,
   "id": "9d7a3123",
   "metadata": {},
   "outputs": [
    {
     "name": "stdout",
     "output_type": "stream",
     "text": [
      "+ operator = 25\n",
      "- operator = -5\n",
      "* operator = 150\n",
      "/ operator = 0.6666666666666666\n",
      "% operator = 10\n",
      "** operator = 1000000000000000\n",
      "// operator = 0\n"
     ]
    }
   ],
   "source": [
    "#arithmatic\n",
    "a=10\n",
    "b=15\n",
    "print(\"+ operator =\",a+b )\n",
    "print(\"- operator =\",a-b )\n",
    "print(\"* operator =\",a*b )\n",
    "print(\"/ operator =\",a/b )\n",
    "print(\"% operator =\",a%b )\n",
    "print(\"** operator =\",a**b )\n",
    "print(\"// operator =\",a//b )"
   ]
  },
  {
   "cell_type": "code",
   "execution_count": 78,
   "id": "6ef9af08",
   "metadata": {},
   "outputs": [
    {
     "name": "stdout",
     "output_type": "stream",
     "text": [
      "= operator = 10\n",
      "+= operator = 20\n",
      "-= operator = 5\n",
      "*= operator = 200\n",
      "/= operator = 6.0\n",
      "//= operator = 4\n",
      "%= operator = 0\n",
      "**= operator = 10240000000000\n",
      "&= operator = 4\n",
      ">>= operator = 0\n",
      "<<= operator = 40\n",
      "^= operator = 8\n"
     ]
    }
   ],
   "source": [
    "#Assignment\n",
    "a=10\n",
    "# += operator\n",
    "b=10\n",
    "b +=10\n",
    "# -= operator\n",
    "c=10\n",
    "c-=5\n",
    "# *= operator\n",
    "d=20\n",
    "d*=10\n",
    "# /= operator\n",
    "e =30\n",
    "e/=5\n",
    "# //= operator\n",
    "f=40\n",
    "f//=10\n",
    "# %= operator\n",
    "h=10\n",
    "h%=2\n",
    "# **= operator\n",
    "i=20\n",
    "i**=10\n",
    "# &= operator\n",
    "j =30\n",
    "j&=5\n",
    "# >>= operator\n",
    "k=40\n",
    "k>>=10\n",
    "# <<= operator\n",
    "l=10\n",
    "l<<=2\n",
    "\n",
    "# ^= operator\n",
    "m=10\n",
    "m^=2\n",
    "print(\"= operator =\",a)\n",
    "print(\"+= operator =\",b)\n",
    "print(\"-= operator =\",c )\n",
    "print(\"*= operator =\",d )\n",
    "print(\"/= operator =\",e )\n",
    "print(\"//= operator =\",f )\n",
    "print(\"%= operator =\",h )\n",
    "print(\"**= operator =\",i )\n",
    "print(\"&= operator =\",j )\n",
    "print(\">>= operator =\",k )\n",
    "print(\"<<= operator =\",l )\n",
    "print(\"^= operator =\",m )\n"
   ]
  },
  {
   "cell_type": "code",
   "execution_count": 84,
   "id": "0b9fb58b",
   "metadata": {},
   "outputs": [
    {
     "name": "stdout",
     "output_type": "stream",
     "text": [
      "False\n",
      "True\n",
      "True\n"
     ]
    }
   ],
   "source": [
    "#Logical operator\n",
    "#1 And operator\n",
    "x=10\n",
    "print(x<0 and x<15)\n",
    "#2 or operator\n",
    "print(x>0 or x<15)\n",
    "#3 Note operator\n",
    "print(not(x>0 and x<15))"
   ]
  },
  {
   "cell_type": "code",
   "execution_count": 89,
   "id": "182e22b1",
   "metadata": {},
   "outputs": [
    {
     "name": "stdout",
     "output_type": "stream",
     "text": [
      "True\n",
      "False\n"
     ]
    }
   ],
   "source": [
    "#identifier \n",
    "#1 is\n",
    "x=10\n",
    "y=x\n",
    "print(y is x)\n",
    "#2 is not\n",
    "print(x is not y)"
   ]
  },
  {
   "cell_type": "code",
   "execution_count": 91,
   "id": "a16fd9c1",
   "metadata": {},
   "outputs": [
    {
     "name": "stdout",
     "output_type": "stream",
     "text": [
      "True\n",
      "False\n"
     ]
    }
   ],
   "source": [
    "#membership\n",
    "#in\n",
    "list1=[\"Anuj\",\"Ashish\",\"Amit\"]\n",
    "print(\"Anuj\" in list1)\n",
    "#not in\n",
    "print(\"Anuj\" not in list1)"
   ]
  },
  {
   "cell_type": "code",
   "execution_count": 93,
   "id": "b36c2a62",
   "metadata": {},
   "outputs": [
    {
     "name": "stdout",
     "output_type": "stream",
     "text": [
      "False\n",
      "True\n",
      "True\n",
      "False\n",
      "True\n",
      "False\n"
     ]
    }
   ],
   "source": [
    "#comparsion operator\n",
    "x=20\n",
    "y=10\n",
    "print(x==y)\n",
    "print(x!=y)\n",
    "print(x>y)\n",
    "print(x<y)\n",
    "print(x>=y)\n",
    "print(x<=y)"
   ]
  },
  {
   "cell_type": "code",
   "execution_count": 104,
   "id": "b078c9a0",
   "metadata": {},
   "outputs": [
    {
     "name": "stdout",
     "output_type": "stream",
     "text": [
      "0b1000\n",
      "14\n",
      "6\n",
      "-11\n",
      "0\n",
      "40960\n"
     ]
    }
   ],
   "source": [
    "x=10\n",
    "bit_x= bin(x)\n",
    "y=12\n",
    "bit_y= bin(y)\n",
    "print(x&y)\n",
    "print(x|y)\n",
    "print(x^y)\n",
    "print(~x)\n",
    "print(x>>y)\n",
    "print(x<<y)"
   ]
  },
  {
   "cell_type": "code",
   "execution_count": 106,
   "id": "d527076e",
   "metadata": {},
   "outputs": [
    {
     "name": "stdout",
     "output_type": "stream",
     "text": [
      "['MI', 'CSK', 'SRH', 'RCB', 'RR', 'KXIP']\n"
     ]
    }
   ],
   "source": [
    "#list operation\n",
    "list1 = [\"MI\",\"CSK\",\"SRH\",\"RCB\",\"RR\"]\n",
    "#add element though append\n",
    "list1.append(\"KXIP\")\n",
    "print(list1)"
   ]
  },
  {
   "cell_type": "code",
   "execution_count": 107,
   "id": "97c2a91e",
   "metadata": {},
   "outputs": [
    {
     "name": "stdout",
     "output_type": "stream",
     "text": [
      "['MI', 'CSK', 'SRH', 'RCB']\n"
     ]
    }
   ],
   "source": [
    "list4 = [\"MI\",\"CSK\",\"SRH\",\"RCB\",\"RR\"]\n",
    "#remove item form list\n",
    "list4.remove(\"RR\")\n",
    "print(list4)\n"
   ]
  },
  {
   "cell_type": "code",
   "execution_count": 113,
   "id": "4ccc1e43",
   "metadata": {},
   "outputs": [
    {
     "name": "stdout",
     "output_type": "stream",
     "text": [
      "['CSK', 'MI', 'RCB', 'RR', 'SRH']\n"
     ]
    }
   ],
   "source": [
    "list4 = [\"MI\",\"CSK\",\"SRH\",\"RCB\",\"RR\"]\n",
    "#sorting List\n",
    "list4.sort()\n",
    "print(list4)"
   ]
  },
  {
   "cell_type": "code",
   "execution_count": 115,
   "id": "c88dbf09",
   "metadata": {},
   "outputs": [
    {
     "name": "stdout",
     "output_type": "stream",
     "text": [
      "['MI', 'CSK', 'SRH', 'RCB', 'RR']\n"
     ]
    }
   ],
   "source": [
    "#checking element\n",
    "list4 = [\"MI\",\"CSK\",\"SRH\",\"RCB\",\"RR\"]\n",
    "if \"MI\" in list4:\n",
    "    print(list4)\n",
    "else:\n",
    "    print(\"No element Found\")"
   ]
  },
  {
   "cell_type": "code",
   "execution_count": 116,
   "id": "ab014c3f",
   "metadata": {},
   "outputs": [
    {
     "name": "stdout",
     "output_type": "stream",
     "text": [
      "['MI', 'CSK', 'Ind', 'SRH', 'RCB', 'RR']\n"
     ]
    }
   ],
   "source": [
    "#insert in list\n",
    "list4 = [\"MI\",\"CSK\",\"SRH\",\"RCB\",\"RR\"]\n",
    "list4.insert(2,\"Ind\")\n",
    "print(list4)"
   ]
  },
  {
   "cell_type": "code",
   "execution_count": 117,
   "id": "134f8ef6",
   "metadata": {},
   "outputs": [
    {
     "name": "stdout",
     "output_type": "stream",
     "text": [
      "['MI', 'CSK', 'SRH', 'RCB', 'RR', 'IND', 'ENG', 'NZ', 'AUS', 'WI']\n"
     ]
    }
   ],
   "source": [
    "#extend function\n",
    "list4 = [\"MI\",\"CSK\",\"SRH\",\"RCB\",\"RR\"]\n",
    "list5 = [\"IND\",\"ENG\",\"NZ\",\"AUS\",\"WI\"]\n",
    "list4.extend(list5)\n",
    "print(list4)"
   ]
  },
  {
   "cell_type": "code",
   "execution_count": 127,
   "id": "722a1cad",
   "metadata": {},
   "outputs": [
    {
     "name": "stdout",
     "output_type": "stream",
     "text": [
      "4\n"
     ]
    }
   ],
   "source": [
    "#count function\n",
    "list4 = [\"MI\",\"CSK\",\"SRH\",\"RCB\",\"RR\",\"MI\",\"MI\",\"MI\"]\n",
    "list4.count(\"MI\")\n",
    "print(list4.count(\"MI\"))"
   ]
  },
  {
   "cell_type": "code",
   "execution_count": 128,
   "id": "862f271f",
   "metadata": {},
   "outputs": [
    {
     "name": "stdout",
     "output_type": "stream",
     "text": [
      "[]\n"
     ]
    }
   ],
   "source": [
    "#clear list \n",
    "list4 = [\"MI\",\"CSK\",\"SRH\",\"RCB\",\"RR\"]\n",
    "list4.clear()\n",
    "print(list4)"
   ]
  },
  {
   "cell_type": "code",
   "execution_count": 129,
   "id": "7250fa16",
   "metadata": {},
   "outputs": [
    {
     "name": "stdout",
     "output_type": "stream",
     "text": [
      "['RR', 'RCB', 'SRH', 'CSK', 'MI']\n"
     ]
    }
   ],
   "source": [
    "#reverse\n",
    "list4 = [\"MI\",\"CSK\",\"SRH\",\"RCB\",\"RR\"]\n",
    "list4.reverse()\n",
    "print(list4)"
   ]
  },
  {
   "cell_type": "code",
   "execution_count": 131,
   "id": "4cc4300b",
   "metadata": {},
   "outputs": [
    {
     "name": "stdout",
     "output_type": "stream",
     "text": [
      "['MI', 'CSK', 'SRH', 'RCB', 'RR']\n"
     ]
    }
   ],
   "source": [
    "#remove duplicate element\n",
    "list4 = [\"MI\",\"CSK\",\"SRH\",\"RCB\",\"RR\",\"MI\",\"MI\",\"MI\"]\n",
    "print(list(dict.fromkeys(list4)))"
   ]
  },
  {
   "cell_type": "code",
   "execution_count": 134,
   "id": "f2f4afb9",
   "metadata": {},
   "outputs": [
    {
     "name": "stdout",
     "output_type": "stream",
     "text": [
      "['MI', 'CSK', 'SRH', 'RCB', 'RR']\n"
     ]
    }
   ],
   "source": [
    "#range in list\n",
    "list4 = [\"MI\",\"CSK\",\"SRH\",\"RCB\",\"RR\"]\n",
    "print(list4[2:5])"
   ]
  },
  {
   "cell_type": "code",
   "execution_count": 135,
   "id": "6c80bd0f",
   "metadata": {},
   "outputs": [
    {
     "name": "stdout",
     "output_type": "stream",
     "text": [
      "('MI', 'CSK', 'SRH', 'RCB', 'RR')\n"
     ]
    }
   ],
   "source": [
    "#tuple\n",
    "my_tuples= (\"MI\",\"CSK\",\"SRH\",\"RCB\",\"RR\")\n",
    "print(my_tuples)"
   ]
  },
  {
   "cell_type": "code",
   "execution_count": 136,
   "id": "0fa0dceb",
   "metadata": {},
   "outputs": [
    {
     "name": "stdout",
     "output_type": "stream",
     "text": [
      "5\n"
     ]
    }
   ],
   "source": [
    "#tuple Lenght\n",
    "my_tuples= (\"MI\",\"CSK\",\"SRH\",\"RCB\",\"RR\")\n",
    "print(len(my_tuples))"
   ]
  },
  {
   "cell_type": "code",
   "execution_count": 137,
   "id": "195ab38b",
   "metadata": {},
   "outputs": [
    {
     "name": "stdout",
     "output_type": "stream",
     "text": [
      "('MI', 'CSK', 'SRH', 'IND', 'RR')\n"
     ]
    }
   ],
   "source": [
    "#add element in tuples\n",
    "#after convert to list all action are performed in tuples\n",
    "my_tuples= (\"MI\",\"CSK\",\"SRH\",\"RCB\",\"RR\")\n",
    "my_list = list(my_tuples)\n",
    "my_list[3]=\"IND\"\n",
    "my_tuples = tuple(my_list)\n",
    "print(my_tuples)"
   ]
  },
  {
   "cell_type": "code",
   "execution_count": 141,
   "id": "3855b0c8",
   "metadata": {},
   "outputs": [
    {
     "name": "stdout",
     "output_type": "stream",
     "text": [
      "MI\n",
      "CSK\n",
      "SRH\n",
      "IND\n",
      "RR\n"
     ]
    }
   ],
   "source": [
    "#ittreation\n",
    "my_tuples= (\"MI\",\"CSK\",\"SRH\",\"RCB\",\"RR\")\n",
    "my_list = list(my_tuples)\n",
    "my_list[3]=\"IND\"\n",
    "my_tuples = tuple(my_list)\n",
    "for i in my_tuples:\n",
    "    print(i)"
   ]
  },
  {
   "cell_type": "code",
   "execution_count": 143,
   "id": "0b8745fe",
   "metadata": {},
   "outputs": [
    {
     "name": "stdout",
     "output_type": "stream",
     "text": [
      "{'SRH', 'MI', 'RR', 'CSK', 'RCB'}\n"
     ]
    }
   ],
   "source": [
    "#set\n",
    "my_set={\"MI\",\"CSK\",\"SRH\",\"RCB\",\"RR\",\"MI\"}\n",
    "print(my_set)"
   ]
  },
  {
   "cell_type": "code",
   "execution_count": 144,
   "id": "0f37c7c1",
   "metadata": {},
   "outputs": [
    {
     "name": "stdout",
     "output_type": "stream",
     "text": [
      "5\n"
     ]
    }
   ],
   "source": [
    "#set length\n",
    "my_set={\"MI\",\"CSK\",\"SRH\",\"RCB\",\"RR\",\"MI\"}\n",
    "print(len(my_set))"
   ]
  },
  {
   "cell_type": "code",
   "execution_count": 146,
   "id": "14e3caf8",
   "metadata": {},
   "outputs": [
    {
     "name": "stdout",
     "output_type": "stream",
     "text": [
      "{'brand': 'Maruti', 'model': 'Swift', 'year': 1996}\n"
     ]
    }
   ],
   "source": [
    "my_dict = {\"brand\":\"Maruti\",\n",
    "           \"model\":\"Swift\",\n",
    "           \"year\":1996\n",
    "          }\n",
    "print(my_dict)"
   ]
  },
  {
   "cell_type": "code",
   "execution_count": 147,
   "id": "d479472e",
   "metadata": {},
   "outputs": [
    {
     "name": "stdout",
     "output_type": "stream",
     "text": [
      "Maruti\n"
     ]
    }
   ],
   "source": [
    "#for praticular element \n",
    "print(my_dict[\"brand\"])"
   ]
  },
  {
   "cell_type": "code",
   "execution_count": 149,
   "id": "b0cfd16e",
   "metadata": {},
   "outputs": [
    {
     "name": "stdout",
     "output_type": "stream",
     "text": [
      "dict_keys(['brand', 'model', 'year'])\n"
     ]
    }
   ],
   "source": [
    "#for key presnt in dictionary\n",
    "print(my_dict.keys())"
   ]
  },
  {
   "cell_type": "code",
   "execution_count": 150,
   "id": "589e1fc1",
   "metadata": {},
   "outputs": [
    {
     "name": "stdout",
     "output_type": "stream",
     "text": [
      "dict_values(['Maruti', 'Swift', 1996])\n"
     ]
    }
   ],
   "source": [
    "#for value of keys\n",
    "print(my_dict.values())"
   ]
  },
  {
   "cell_type": "code",
   "execution_count": 159,
   "id": "94222a46",
   "metadata": {},
   "outputs": [
    {
     "name": "stdout",
     "output_type": "stream",
     "text": [
      "Maruti\n",
      "Swift\n",
      "1996\n"
     ]
    }
   ],
   "source": [
    "#ittreation of dict\n",
    "for i in my_dict:\n",
    "    print(my_dict[i])"
   ]
  },
  {
   "cell_type": "code",
   "execution_count": 161,
   "id": "3770a4d0",
   "metadata": {},
   "outputs": [
    {
     "name": "stdout",
     "output_type": "stream",
     "text": [
      "10.0\n"
     ]
    }
   ],
   "source": [
    "a=10\n",
    "a=float(a)\n",
    "print(a)"
   ]
  },
  {
   "cell_type": "code",
   "execution_count": 163,
   "id": "3ac7b747",
   "metadata": {},
   "outputs": [
    {
     "name": "stdout",
     "output_type": "stream",
     "text": [
      "jdosiihfioeHFDSJJBURIGHGADRUIGHAH\n",
      " hfhguhgjafbgdfaughragjrgrui\n",
      " ofihgraghrhgrghfgbnrghg\n"
     ]
    }
   ],
   "source": [
    "long_string ='''jdosiihfioeHFDSJJBURIGHGADRUIGHAH\n",
    " hfhguhgjafbgdfaughragjrgrui\n",
    " ofihgraghrhgrghfgbnrghg'''\n",
    "print(long_string)"
   ]
  },
  {
   "cell_type": "code",
   "execution_count": 164,
   "id": "4457be62",
   "metadata": {},
   "outputs": [
    {
     "name": "stdout",
     "output_type": "stream",
     "text": [
      ",World\n"
     ]
    }
   ],
   "source": [
    "#slice string\n",
    "my_string = \"Hello,World\"\n",
    "print(my_string[5:])"
   ]
  },
  {
   "cell_type": "code",
   "execution_count": 1,
   "id": "6117cd96",
   "metadata": {},
   "outputs": [
    {
     "data": {
      "text/plain": [
       "'C:\\\\Users\\\\amitc\\\\python_basics'"
      ]
     },
     "execution_count": 1,
     "metadata": {},
     "output_type": "execute_result"
    }
   ],
   "source": [
    "pwd"
   ]
  },
  {
   "cell_type": "code",
   "execution_count": 9,
   "id": "e2f06f5e",
   "metadata": {
    "scrolled": false
   },
   "outputs": [
    {
     "data": {
      "text/plain": [
       "<_io.TextIOWrapper name='example.csv' mode='r' encoding='cp1252'>"
      ]
     },
     "execution_count": 9,
     "metadata": {},
     "output_type": "execute_result"
    }
   ],
   "source": [
    "import csv\n",
    "data = open('example.csv')\n",
    "csv_data = csv.reader(data)\n",
    "csv_data"
   ]
  },
  {
   "cell_type": "code",
   "execution_count": 22,
   "id": "6e38ba53",
   "metadata": {},
   "outputs": [],
   "source": [
    "import csv\n",
    "data = open('example.csv', encoding='UTF-8')\n",
    "for word in list(csv_data):\n",
    "    print(word)\n",
    "    "
   ]
  },
  {
   "cell_type": "code",
   "execution_count": 23,
   "id": "c15b5b5d",
   "metadata": {},
   "outputs": [
    {
     "name": "stdout",
     "output_type": "stream",
     "text": [
      "[['2', 'Freida', 'Drillingcourt', 'fdrillingcourt1@umich.edu', 'Female', '97.212.102.79', 'Buri'], ['3', 'Nanni', 'Herity', 'nherity2@statcounter.com', 'Female', '145.151.178.98', 'Claver'], ['4', 'Orazio', 'Frayling', 'ofrayling3@economist.com', 'Male', '25.199.143.143', 'Kungur']]\n"
     ]
    }
   ],
   "source": [
    " data = open('example.csv', encoding='UTF-8')\n",
    "csv_data = csv.reader(data)\n",
    " print(list(csv_data)[2:5])"
   ]
  },
  {
   "cell_type": "code",
   "execution_count": 25,
   "id": "331456c9",
   "metadata": {},
   "outputs": [
    {
     "name": "stdout",
     "output_type": "stream",
     "text": [
      "1001\n"
     ]
    }
   ],
   "source": [
    "data = open('example.csv', encoding='UTF-8')\n",
    "print(len(list(data)))"
   ]
  },
  {
   "cell_type": "code",
   "execution_count": 20,
   "id": "2447e099",
   "metadata": {},
   "outputs": [
    {
     "name": "stdout",
     "output_type": "stream",
     "text": [
      "['jzaniolini0@simplemachines.org', 'fdrillingcourt1@umich.edu', 'nherity2@statcounter.com', 'ofrayling3@economist.com', 'jmurrison4@cbslocal.com', 'lgamet5@list-manage.com', 'dhowatt6@amazon.com', 'kherion7@amazon.com', 'chedworth8@china.com.cn', 'hgasquoine9@google.ru', 'ftarra@shareasale.com', 'abathb@umn.edu', 'lchastangc@goo.gl', 'cceried@yale.edu']\n"
     ]
    }
   ],
   "source": [
    "data = open('example.csv', encoding='UTF-8')\n",
    "data_lines = list(csv_data)\n",
    "all_emails = []\n",
    "for line in data_lines[1:15]:\n",
    "    all_emails.append(line[3])\n",
    "print(all_emails)    "
   ]
  },
  {
   "cell_type": "code",
   "execution_count": 29,
   "id": "19242777",
   "metadata": {},
   "outputs": [
    {
     "name": "stdout",
     "output_type": "stream",
     "text": [
      "['Joseph Zaniolini', 'Freida Drillingcourt', 'Nanni Herity', 'Orazio Frayling', 'Julianne Murrison', 'Lucy Gamet', 'Dyana Howatt', 'Kassey Herion', 'Chrissy Hedworth', 'Hyatt Gasquoine', 'Felicdad Tarr', 'Andrew Bath', 'Lucais Chastang', 'Car Cerie']\n"
     ]
    }
   ],
   "source": [
    "full_names = []\n",
    "\n",
    "for line in data_lines[1:15]:\n",
    "    full_names.append(line[1]+' '+line[2])\n",
    "print(full_names)"
   ]
  },
  {
   "cell_type": "code",
   "execution_count": 30,
   "id": "bef8c6d4",
   "metadata": {},
   "outputs": [],
   "source": [
    "# newline controls how universal newlines works (it only applies to text\n",
    "# mode). It can be None, '', '\\n', '\\r', and '\\r\\n'. \n",
    "file_to_output = open('to_save_file.csv','w',newline='')"
   ]
  },
  {
   "cell_type": "code",
   "execution_count": 31,
   "id": "6e467539",
   "metadata": {},
   "outputs": [
    {
     "data": {
      "text/plain": [
       "7"
      ]
     },
     "execution_count": 31,
     "metadata": {},
     "output_type": "execute_result"
    }
   ],
   "source": [
    "csv_writer = csv.writer(file_to_output,delimiter=',')\n",
    "csv_writer.writerow(['a','b','c'])"
   ]
  },
  {
   "cell_type": "code",
   "execution_count": 32,
   "id": "c54bb064",
   "metadata": {},
   "outputs": [],
   "source": [
    "csv_writer.writerows([['1','2','3'],['4','5','6']])"
   ]
  },
  {
   "cell_type": "code",
   "execution_count": 33,
   "id": "2f54a600",
   "metadata": {},
   "outputs": [],
   "source": [
    "file_to_output.close()"
   ]
  },
  {
   "cell_type": "code",
   "execution_count": 34,
   "id": "6c864f4d",
   "metadata": {},
   "outputs": [],
   "source": [
    "f = open('to_save_file.csv','a',newline='')"
   ]
  },
  {
   "cell_type": "code",
   "execution_count": 35,
   "id": "eca544ed",
   "metadata": {},
   "outputs": [],
   "source": [
    "csv_writer = csv.writer(f)"
   ]
  },
  {
   "cell_type": "code",
   "execution_count": 36,
   "id": "8f3c5273",
   "metadata": {},
   "outputs": [
    {
     "data": {
      "text/plain": [
       "13"
      ]
     },
     "execution_count": 36,
     "metadata": {},
     "output_type": "execute_result"
    }
   ],
   "source": [
    "csv_writer.writerow(['new','new','new'])"
   ]
  },
  {
   "cell_type": "code",
   "execution_count": 37,
   "id": "df5a6aef",
   "metadata": {},
   "outputs": [],
   "source": [
    "f.close()"
   ]
  },
  {
   "cell_type": "code",
   "execution_count": 39,
   "id": "6f59163c",
   "metadata": {},
   "outputs": [
    {
     "name": "stdout",
     "output_type": "stream",
     "text": [
      "Collecting PyPDF2\n",
      "  Downloading PyPDF2-1.26.0.tar.gz (77 kB)\n",
      "Building wheels for collected packages: PyPDF2\n",
      "  Building wheel for PyPDF2 (setup.py): started\n",
      "  Building wheel for PyPDF2 (setup.py): finished with status 'done'\n",
      "  Created wheel for PyPDF2: filename=PyPDF2-1.26.0-py3-none-any.whl size=61101 sha256=d32d4dca87f0d848762ca91afbcac95cc8e3d6d7b66ffb97b939aacff14cdf96\n",
      "  Stored in directory: c:\\users\\amitc\\appdata\\local\\pip\\cache\\wheels\\d9\\dc\\ec\\72da68331f30074b9950c1737c23cb8a67484e61498bc9713d\n",
      "Successfully built PyPDF2\n",
      "Installing collected packages: PyPDF2\n",
      "Successfully installed PyPDF2-1.26.0\n",
      "Note: you may need to restart the kernel to use updated packages.\n"
     ]
    }
   ],
   "source": [
    "pip install PyPDF2"
   ]
  },
  {
   "cell_type": "code",
   "execution_count": 1,
   "id": "b48ff577",
   "metadata": {},
   "outputs": [],
   "source": [
    "# note the capitalization\n",
    "import PyPDF2"
   ]
  },
  {
   "cell_type": "code",
   "execution_count": 9,
   "id": "7c97794a",
   "metadata": {},
   "outputs": [],
   "source": [
    "f = open('Working_Business_Proposal.pdf','rb')"
   ]
  },
  {
   "cell_type": "code",
   "execution_count": 10,
   "id": "3d336cb2",
   "metadata": {},
   "outputs": [],
   "source": [
    "pdf_reader = PyPDF2.PdfFileReader(f)"
   ]
  },
  {
   "cell_type": "code",
   "execution_count": 11,
   "id": "b7fd618e",
   "metadata": {},
   "outputs": [
    {
     "data": {
      "text/plain": [
       "5"
      ]
     },
     "execution_count": 11,
     "metadata": {},
     "output_type": "execute_result"
    }
   ],
   "source": [
    "pdf_reader.getNumPages()"
   ]
  },
  {
   "cell_type": "code",
   "execution_count": 12,
   "id": "8ec94c26",
   "metadata": {},
   "outputs": [
    {
     "data": {
      "text/plain": [
       "{'/Title': 'Working_Business_Proposal',\n",
       " '/Producer': 'Mac OS X 10.13.1 Quartz PDFContext',\n",
       " '/Creator': 'Pages',\n",
       " '/CreationDate': \"D:20171221083105Z00'00'\",\n",
       " '/ModDate': \"D:20171221083105Z00'00'\"}"
      ]
     },
     "execution_count": 12,
     "metadata": {},
     "output_type": "execute_result"
    }
   ],
   "source": [
    "pdf_reader.documentInfo"
   ]
  },
  {
   "cell_type": "code",
   "execution_count": 17,
   "id": "4b1368a4",
   "metadata": {},
   "outputs": [],
   "source": [
    "page_one = pdf_reader.getPage(0)"
   ]
  },
  {
   "cell_type": "code",
   "execution_count": 19,
   "id": "00013de6",
   "metadata": {},
   "outputs": [],
   "source": [
    "page_one_text = page_one.extractText()"
   ]
  },
  {
   "cell_type": "code",
   "execution_count": 20,
   "id": "9c6f8e7a",
   "metadata": {},
   "outputs": [
    {
     "data": {
      "text/plain": [
       "'Business Proposal\\n The Revolution is Coming\\n Leverage agile frameworks to provide a robust synopsis for high level \\noverviews. Iterative approaches to corporate strategy foster collaborative \\nthinking to further the overall value proposition. Organically grow the \\nholistic world view of disruptive innovation via workplace diversity and \\nempowerment. \\nBring to the table win-win survival strategies to ensure proactive \\ndomination. At the end of the day, going forward, a new normal that has \\nevolved from generation X is on the runway heading towards a streamlined \\ncloud solution. User generated content in real-time will have multiple \\ntouchpoints for offshoring. \\nCapitalize on low hanging fruit to identify a ballpark value added activity to \\nbeta test. Override the digital divide with additional clickthroughs from \\nDevOps. Nanotechnology immersion along the information highway will \\nclose the loop on focusing solely on the bottom line. Podcasting operational change management inside of workßows to \\nestablish a framework. Taking seamless key performance indicators ofßine \\nto maximise the long tail. Keeping your eye on the ball while performing a \\ndeep dive on the start-up mentality to derive convergence on cross-\\nplatform integration. \\nCollaboratively administrate empowered markets via plug-and-play \\nnetworks. Dynamically procrastinate B2C users after installed base \\nbeneÞts. Dramatically visualize customer directed convergence without \\nrevolutionary ROI. \\nEfÞciently unleash cross-media information without cross-media value. \\nQuickly maximize timely deliverables for real-time schemas. Dramatically \\nmaintain clicks-and-mortar solutions without functional solutions. \\nBUSINESS PROPOSAL\\n!1'"
      ]
     },
     "execution_count": 20,
     "metadata": {},
     "output_type": "execute_result"
    }
   ],
   "source": [
    "page_one_text"
   ]
  },
  {
   "cell_type": "code",
   "execution_count": 21,
   "id": "b31614ad",
   "metadata": {},
   "outputs": [
    {
     "data": {
      "text/plain": [
       "<function BufferedReader.close>"
      ]
     },
     "execution_count": 21,
     "metadata": {},
     "output_type": "execute_result"
    }
   ],
   "source": [
    "f.close"
   ]
  },
  {
   "cell_type": "code",
   "execution_count": 22,
   "id": "8af83446",
   "metadata": {},
   "outputs": [],
   "source": [
    "f = open('Working_Business_Proposal.pdf','rb')\n",
    "pdf_reader = PyPDF2.PdfFileReader(f)"
   ]
  },
  {
   "cell_type": "code",
   "execution_count": 23,
   "id": "45950387",
   "metadata": {},
   "outputs": [],
   "source": [
    "first_page = pdf_reader.getPage(0)"
   ]
  },
  {
   "cell_type": "code",
   "execution_count": 24,
   "id": "7c58be32",
   "metadata": {},
   "outputs": [],
   "source": [
    "pdf_writer = PyPDF2.PdfFileWriter()"
   ]
  },
  {
   "cell_type": "code",
   "execution_count": 25,
   "id": "ae18818c",
   "metadata": {},
   "outputs": [],
   "source": [
    "pdf_writer.addPage(first_page)"
   ]
  },
  {
   "cell_type": "code",
   "execution_count": 26,
   "id": "323a163a",
   "metadata": {},
   "outputs": [],
   "source": [
    "pdf_output = open(\"Some_New_Doc.pdf\",\"wb\")"
   ]
  },
  {
   "cell_type": "code",
   "execution_count": 27,
   "id": "7cfeca73",
   "metadata": {},
   "outputs": [],
   "source": [
    "pdf_writer.write(pdf_output)"
   ]
  },
  {
   "cell_type": "code",
   "execution_count": 28,
   "id": "23a25858",
   "metadata": {},
   "outputs": [],
   "source": [
    "f.close()"
   ]
  },
  {
   "cell_type": "code",
   "execution_count": 29,
   "id": "440bd046",
   "metadata": {},
   "outputs": [],
   "source": [
    "f = open('Working_Business_Proposal.pdf','rb')\n",
    "\n",
    "# List of every page's text.\n",
    "# The index will correspond to the page number.\n",
    "pdf_text = []\n",
    "\n",
    "pdf_reader = PyPDF2.PdfFileReader(f)\n",
    "\n",
    "for p in range(pdf_reader.numPages):\n",
    "    \n",
    "    page = pdf_reader.getPage(p)\n",
    "    \n",
    "    pdf_text.append(page.extractText())\n",
    "    "
   ]
  },
  {
   "cell_type": "code",
   "execution_count": 30,
   "id": "cd466125",
   "metadata": {},
   "outputs": [
    {
     "data": {
      "text/plain": [
       "['Business Proposal\\n The Revolution is Coming\\n Leverage agile frameworks to provide a robust synopsis for high level \\noverviews. Iterative approaches to corporate strategy foster collaborative \\nthinking to further the overall value proposition. Organically grow the \\nholistic world view of disruptive innovation via workplace diversity and \\nempowerment. \\nBring to the table win-win survival strategies to ensure proactive \\ndomination. At the end of the day, going forward, a new normal that has \\nevolved from generation X is on the runway heading towards a streamlined \\ncloud solution. User generated content in real-time will have multiple \\ntouchpoints for offshoring. \\nCapitalize on low hanging fruit to identify a ballpark value added activity to \\nbeta test. Override the digital divide with additional clickthroughs from \\nDevOps. Nanotechnology immersion along the information highway will \\nclose the loop on focusing solely on the bottom line. Podcasting operational change management inside of workßows to \\nestablish a framework. Taking seamless key performance indicators ofßine \\nto maximise the long tail. Keeping your eye on the ball while performing a \\ndeep dive on the start-up mentality to derive convergence on cross-\\nplatform integration. \\nCollaboratively administrate empowered markets via plug-and-play \\nnetworks. Dynamically procrastinate B2C users after installed base \\nbeneÞts. Dramatically visualize customer directed convergence without \\nrevolutionary ROI. \\nEfÞciently unleash cross-media information without cross-media value. \\nQuickly maximize timely deliverables for real-time schemas. Dramatically \\nmaintain clicks-and-mortar solutions without functional solutions. \\nBUSINESS PROPOSAL\\n!1',\n",
       " 'Completely synergize resource taxing relationships via premier niche \\nmarkets. Professionally cultivate one-to-one customer service with robust \\nideas. Dynamically innovate resource-leveling customer service for state of \\nthe art customer service. \\nObjectively innovate empowered manufactured products whereas parallel \\nplatforms. Holisticly predominate extensible testing procedures for reliable \\nsupply chains. Dramatically engage top-line web services vis-a-vis \\ncutting-edge deliverables. Proactively envisioned multimedia based expertise and cross-media \\ngrowth strategies. Seamlessly visualize quality intellectual capital without \\nsuperior collaboration and idea-sharing. Holistically pontiÞcate installed \\nbase portals after maintainable products. \\nPhosßuorescently engage worldwide methodologies with web-enabled \\ntechnology. Interactively coordinate proactive e-commerce via process-\\ncentric \"outside the box\" thinking. Completely pursue scalable customer \\nservice through sustainable potentialities. \\nCollaboratively administrate turnkey channels whereas virtual e-tailers. \\nObjectively seize scalable metrics whereas proactive e-services. \\nSeamlessly empower fully researched growth strategies and interoperable \\ninternal or \"organic\" sources. \\nCredibly innovate granular internal or \"organic\" sources whereas high \\nstandards in web-readiness. Energistically scale future-proof core \\ncompetencies vis-a-vis impactful experiences. Dramatically synthesize \\nintegrated schemas with optimal networks. Interactively procrastinate high-payoff content without backward-\\ncompatible data. Quickly cultivate optimal processes and tactical \\narchitectures. Completely iterate covalent strategic theme areas via \\naccurate e-markets. Globally incubate standards compliant channels before scalable beneÞts. \\nQuickly disseminate superior deliverables whereas web-enabled \\nBUSINESS PROPOSAL\\n!2',\n",
       " 'applications. Quickly drive clicks-and-mortar catalysts for change before \\nvertical architectures. \\nCredibly reintermediate backend ideas for cross-platform models. \\nContinually reintermediate integrated processes through technically sound \\nintellectual capital. Holistically foster superior methodologies without \\nmarket-driven best practices. Distinctively exploit optimal alignments for intuitive bandwidth. Quickly \\ncoordinate e-business applications through revolutionary catalysts for \\nchange. Seamlessly underwhelm optimal testing procedures whereas \\nbricks-and-clicks processes. \\nSynergistically evolve 2.0 technologies rather than just in time initiatives. \\nQuickly deploy strategic networks with compelling e-business. Credibly \\npontiÞcate highly efÞcient manufactured products and enabled data. \\nDynamically target high-payoff intellectual capital for customized \\ntechnologies. Objectively integrate emerging core competencies before \\nprocess-centric communities. Dramatically evisculate holistic innovation \\nrather than client-centric data. Progressively maintain extensive infomediaries via extensible niches. \\nDramatically disseminate standardized metrics after resource-leveling \\nprocesses. Objectively pursue diverse catalysts for change for \\ninteroperable meta-services. \\nProactively fabricate one-to-one materials via effective e-business. \\nCompletely synergize scalable e-commerce rather than high standards in \\ne-services. Assertively iterate resource maximizing products after leading-\\nedge intellectual capital. Distinctively re-engineer revolutionary meta-services and premium \\narchitectures. Intrinsically incubate intuitive opportunities and real-time \\npotentialities. Appropriately communicate one-to-one technology after \\nplug-and-play networks. Quickly aggregate B2B users and worldwide potentialities. Progressively \\nplagiarize resource-leveling e-commerce through resource-leveling core \\nBUSINESS PROPOSAL\\n!3',\n",
       " 'competencies. Dramatically mesh low-risk high-yield alignments before \\ntransparent e-tailers. \\nAppropriately empower dynamic leadership skills after business portals. \\nGlobally myocardinate interactive supply chains with distinctive quality \\nvectors. Globally revolutionize global sources through interoperable \\nservices. Enthusiastically mesh long-term high-impact infrastructures vis-a-vis \\nefÞcient customer service. Professionally fashion wireless leadership rather \\nthan prospective experiences. Energistically myocardinate clicks-and-\\nmortar testing procedures whereas next-generation manufactured \\nproducts. \\nDynamically reinvent market-driven opportunities and ubiquitous \\ninterfaces. Energistically fabricate an expanded array of niche markets \\nthrough robust products. Appropriately implement visionary e-services vis-\\na-vis strategic web-readiness. \\nCompellingly embrace empowered e-business after user friendly \\nintellectual capital. Interactively actualize front-end processes with \\neffective convergence. Synergistically deliver performance based \\nmethods of empowerment whereas distributed expertise. \\nEfÞciently enable enabled sources and cost effective products. \\nCompletely synthesize principle-centered information after ethical \\ncommunities. EfÞciently innovate open-source infrastructures via \\ninexpensive materials. Objectively integrate enterprise-wide strategic theme areas with \\nfunctionalized infrastructures. Interactively productize premium \\ntechnologies whereas interdependent quality vectors. Rapaciously utilize \\nenterprise experiences via 24/7 markets. Uniquely matrix economically sound value through cooperative \\ntechnology. Competently parallel task fully researched data and enterprise \\nprocess improvements. Collaboratively expedite quality manufactured \\nproducts via client-focused results. \\nBUSINESS PROPOSAL\\n!4',\n",
       " 'Quickly communicate enabled technology and turnkey leadership skills. \\nUniquely enable accurate supply chains rather than frictionless \\ntechnology. Globally network focused materials vis-a-vis cost effective \\nmanufactured products. \\nBUSINESS PROPOSAL\\n!5']"
      ]
     },
     "execution_count": 30,
     "metadata": {},
     "output_type": "execute_result"
    }
   ],
   "source": [
    "pdf_text"
   ]
  },
  {
   "cell_type": "code",
   "execution_count": 1,
   "id": "04529ac0",
   "metadata": {},
   "outputs": [
    {
     "name": "stdout",
     "output_type": "stream",
     "text": [
      "q\n"
     ]
    }
   ],
   "source": [
    "print(\"q\")"
   ]
  },
  {
   "cell_type": "code",
   "execution_count": 2,
   "id": "28cfcf10",
   "metadata": {},
   "outputs": [
    {
     "name": "stdout",
     "output_type": "stream",
     "text": [
      "15\n"
     ]
    }
   ],
   "source": [
    "list1 =[1,5,9]\n",
    "print(sum(list1))"
   ]
  },
  {
   "cell_type": "code",
   "execution_count": 3,
   "id": "862f28bf",
   "metadata": {},
   "outputs": [],
   "source": [
    "list1=list()"
   ]
  },
  {
   "cell_type": "code",
   "execution_count": 4,
   "id": "b138f797",
   "metadata": {},
   "outputs": [
    {
     "name": "stdout",
     "output_type": "stream",
     "text": [
      "12454\n"
     ]
    }
   ],
   "source": [
    "list1=[2445,133,12454,123]\n",
    "print(max(list1))"
   ]
  },
  {
   "cell_type": "code",
   "execution_count": 5,
   "id": "2739043d",
   "metadata": {},
   "outputs": [
    {
     "name": "stdout",
     "output_type": "stream",
     "text": [
      "[2, 33, 222, 14]\n"
     ]
    }
   ],
   "source": [
    "list1=[2,33,222,14,25]\n",
    "print(list1[:-1])"
   ]
  },
  {
   "cell_type": "code",
   "execution_count": 6,
   "id": "d9340f51",
   "metadata": {},
   "outputs": [],
   "source": [
    "class Name:\n",
    "    def __init__(javapoint):\n",
    "        javajavatpoint = java\n",
    "        name1 = Name('ABC')\n",
    "        name2 = name1"
   ]
  },
  {
   "cell_type": "code",
   "execution_count": 7,
   "id": "86daf84e",
   "metadata": {},
   "outputs": [],
   "source": [
    "__xyz__=5"
   ]
  },
  {
   "cell_type": "code",
   "execution_count": 8,
   "id": "7dc5fed5",
   "metadata": {},
   "outputs": [
    {
     "data": {
      "text/plain": [
       "5"
      ]
     },
     "execution_count": 8,
     "metadata": {},
     "output_type": "execute_result"
    }
   ],
   "source": [
    "__xyz__"
   ]
  },
  {
   "cell_type": "code",
   "execution_count": 9,
   "id": "f252157c",
   "metadata": {},
   "outputs": [
    {
     "data": {
      "text/plain": [
       "5"
      ]
     },
     "execution_count": 9,
     "metadata": {},
     "output_type": "execute_result"
    }
   ],
   "source": [
    "__xyz=5\n",
    "__xyz"
   ]
  },
  {
   "cell_type": "code",
   "execution_count": 10,
   "id": "c6e31d52",
   "metadata": {},
   "outputs": [
    {
     "data": {
      "text/plain": [
       "5"
      ]
     },
     "execution_count": 10,
     "metadata": {},
     "output_type": "execute_result"
    }
   ],
   "source": [
    "_x=5\n",
    "_x"
   ]
  },
  {
   "cell_type": "code",
   "execution_count": null,
   "id": "558a7b75",
   "metadata": {},
   "outputs": [],
   "source": []
  }
 ],
 "metadata": {
  "kernelspec": {
   "display_name": "Python 3 (ipykernel)",
   "language": "python",
   "name": "python3"
  },
  "language_info": {
   "codemirror_mode": {
    "name": "ipython",
    "version": 3
   },
   "file_extension": ".py",
   "mimetype": "text/x-python",
   "name": "python",
   "nbconvert_exporter": "python",
   "pygments_lexer": "ipython3",
   "version": "3.9.7"
  }
 },
 "nbformat": 4,
 "nbformat_minor": 5
}
